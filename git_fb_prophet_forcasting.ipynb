{
  "nbformat": 4,
  "nbformat_minor": 0,
  "metadata": {
    "colab": {
      "provenance": [],
      "authorship_tag": "ABX9TyNCphdjEYnnrDTW+Zqw41SK",
      "include_colab_link": true
    },
    "kernelspec": {
      "name": "python3",
      "display_name": "Python 3"
    },
    "language_info": {
      "name": "python"
    }
  },
  "cells": [
    {
      "cell_type": "markdown",
      "metadata": {
        "id": "view-in-github",
        "colab_type": "text"
      },
      "source": [
        "<a href=\"https://colab.research.google.com/github/mrsamsonn/fbprophet-yfinance-next_hour_prediction/blob/main/git_fb_prophet_forcasting.ipynb\" target=\"_parent\"><img src=\"https://colab.research.google.com/assets/colab-badge.svg\" alt=\"Open In Colab\"/></a>"
      ]
    },
    {
      "cell_type": "code",
      "execution_count": 6,
      "metadata": {
        "colab": {
          "base_uri": "https://localhost:8080/"
        },
        "id": "o6x1YXrhlbJH",
        "outputId": "feb315c5-c8ce-4ba8-80a3-ed17eed77124"
      },
      "outputs": [
        {
          "output_type": "stream",
          "name": "stdout",
          "text": [
            "Requirement already satisfied: prophet in /usr/local/lib/python3.10/dist-packages (1.1.4)\n",
            "Requirement already satisfied: cmdstanpy>=1.0.4 in /usr/local/lib/python3.10/dist-packages (from prophet) (1.1.0)\n",
            "Requirement already satisfied: numpy>=1.15.4 in /usr/local/lib/python3.10/dist-packages (from prophet) (1.23.5)\n",
            "Requirement already satisfied: matplotlib>=2.0.0 in /usr/local/lib/python3.10/dist-packages (from prophet) (3.7.1)\n",
            "Requirement already satisfied: pandas>=1.0.4 in /usr/local/lib/python3.10/dist-packages (from prophet) (1.5.3)\n",
            "Requirement already satisfied: LunarCalendar>=0.0.9 in /usr/local/lib/python3.10/dist-packages (from prophet) (0.0.9)\n",
            "Requirement already satisfied: convertdate>=2.1.2 in /usr/local/lib/python3.10/dist-packages (from prophet) (2.4.0)\n",
            "Requirement already satisfied: holidays>=0.25 in /usr/local/lib/python3.10/dist-packages (from prophet) (0.32)\n",
            "Requirement already satisfied: python-dateutil>=2.8.0 in /usr/local/lib/python3.10/dist-packages (from prophet) (2.8.2)\n",
            "Requirement already satisfied: tqdm>=4.36.1 in /usr/local/lib/python3.10/dist-packages (from prophet) (4.66.1)\n",
            "Requirement already satisfied: importlib-resources in /usr/local/lib/python3.10/dist-packages (from prophet) (6.0.1)\n",
            "Requirement already satisfied: pymeeus<=1,>=0.3.13 in /usr/local/lib/python3.10/dist-packages (from convertdate>=2.1.2->prophet) (0.5.12)\n",
            "Requirement already satisfied: ephem>=3.7.5.3 in /usr/local/lib/python3.10/dist-packages (from LunarCalendar>=0.0.9->prophet) (4.1.4)\n",
            "Requirement already satisfied: pytz in /usr/local/lib/python3.10/dist-packages (from LunarCalendar>=0.0.9->prophet) (2023.3.post1)\n",
            "Requirement already satisfied: contourpy>=1.0.1 in /usr/local/lib/python3.10/dist-packages (from matplotlib>=2.0.0->prophet) (1.1.0)\n",
            "Requirement already satisfied: cycler>=0.10 in /usr/local/lib/python3.10/dist-packages (from matplotlib>=2.0.0->prophet) (0.11.0)\n",
            "Requirement already satisfied: fonttools>=4.22.0 in /usr/local/lib/python3.10/dist-packages (from matplotlib>=2.0.0->prophet) (4.42.1)\n",
            "Requirement already satisfied: kiwisolver>=1.0.1 in /usr/local/lib/python3.10/dist-packages (from matplotlib>=2.0.0->prophet) (1.4.5)\n",
            "Requirement already satisfied: packaging>=20.0 in /usr/local/lib/python3.10/dist-packages (from matplotlib>=2.0.0->prophet) (23.1)\n",
            "Requirement already satisfied: pillow>=6.2.0 in /usr/local/lib/python3.10/dist-packages (from matplotlib>=2.0.0->prophet) (9.4.0)\n",
            "Requirement already satisfied: pyparsing>=2.3.1 in /usr/local/lib/python3.10/dist-packages (from matplotlib>=2.0.0->prophet) (3.1.1)\n",
            "Requirement already satisfied: six>=1.5 in /usr/local/lib/python3.10/dist-packages (from python-dateutil>=2.8.0->prophet) (1.16.0)\n"
          ]
        }
      ],
      "source": [
        "#!pip install pystan~=2.14\n",
        "!pip install prophet"
      ]
    },
    {
      "cell_type": "code",
      "source": [
        "%pip install yfinance"
      ],
      "metadata": {
        "colab": {
          "base_uri": "https://localhost:8080/"
        },
        "id": "QH3J1I6huV46",
        "outputId": "543d2cef-29ff-4727-9966-c4ff4c33d669"
      },
      "execution_count": 7,
      "outputs": [
        {
          "output_type": "stream",
          "name": "stdout",
          "text": [
            "Requirement already satisfied: yfinance in /usr/local/lib/python3.10/dist-packages (0.2.28)\n",
            "Requirement already satisfied: pandas>=1.3.0 in /usr/local/lib/python3.10/dist-packages (from yfinance) (1.5.3)\n",
            "Requirement already satisfied: numpy>=1.16.5 in /usr/local/lib/python3.10/dist-packages (from yfinance) (1.23.5)\n",
            "Requirement already satisfied: requests>=2.31 in /usr/local/lib/python3.10/dist-packages (from yfinance) (2.31.0)\n",
            "Requirement already satisfied: multitasking>=0.0.7 in /usr/local/lib/python3.10/dist-packages (from yfinance) (0.0.11)\n",
            "Requirement already satisfied: lxml>=4.9.1 in /usr/local/lib/python3.10/dist-packages (from yfinance) (4.9.3)\n",
            "Requirement already satisfied: appdirs>=1.4.4 in /usr/local/lib/python3.10/dist-packages (from yfinance) (1.4.4)\n",
            "Requirement already satisfied: pytz>=2022.5 in /usr/local/lib/python3.10/dist-packages (from yfinance) (2023.3.post1)\n",
            "Requirement already satisfied: frozendict>=2.3.4 in /usr/local/lib/python3.10/dist-packages (from yfinance) (2.3.8)\n",
            "Requirement already satisfied: beautifulsoup4>=4.11.1 in /usr/local/lib/python3.10/dist-packages (from yfinance) (4.11.2)\n",
            "Requirement already satisfied: html5lib>=1.1 in /usr/local/lib/python3.10/dist-packages (from yfinance) (1.1)\n",
            "Requirement already satisfied: soupsieve>1.2 in /usr/local/lib/python3.10/dist-packages (from beautifulsoup4>=4.11.1->yfinance) (2.5)\n",
            "Requirement already satisfied: six>=1.9 in /usr/local/lib/python3.10/dist-packages (from html5lib>=1.1->yfinance) (1.16.0)\n",
            "Requirement already satisfied: webencodings in /usr/local/lib/python3.10/dist-packages (from html5lib>=1.1->yfinance) (0.5.1)\n",
            "Requirement already satisfied: python-dateutil>=2.8.1 in /usr/local/lib/python3.10/dist-packages (from pandas>=1.3.0->yfinance) (2.8.2)\n",
            "Requirement already satisfied: charset-normalizer<4,>=2 in /usr/local/lib/python3.10/dist-packages (from requests>=2.31->yfinance) (3.2.0)\n",
            "Requirement already satisfied: idna<4,>=2.5 in /usr/local/lib/python3.10/dist-packages (from requests>=2.31->yfinance) (3.4)\n",
            "Requirement already satisfied: urllib3<3,>=1.21.1 in /usr/local/lib/python3.10/dist-packages (from requests>=2.31->yfinance) (2.0.4)\n",
            "Requirement already satisfied: certifi>=2017.4.17 in /usr/local/lib/python3.10/dist-packages (from requests>=2.31->yfinance) (2023.7.22)\n"
          ]
        }
      ]
    },
    {
      "cell_type": "code",
      "source": [
        "import yfinance as yf\n",
        "import pandas as pd\n",
        "from datetime import date, timedelta\n",
        "from prophet import Prophet"
      ],
      "metadata": {
        "id": "J5xJRGXguZTY"
      },
      "execution_count": 8,
      "outputs": []
    },
    {
      "cell_type": "code",
      "source": [
        "#date\n",
        "past = (date.today()-timedelta(days=1))\n",
        "print(\"date:\", past)"
      ],
      "metadata": {
        "colab": {
          "base_uri": "https://localhost:8080/"
        },
        "id": "Wq8FGruUPtVD",
        "outputId": "1699b8ef-014f-4c06-c29d-896c13d345f1"
      },
      "execution_count": 9,
      "outputs": [
        {
          "output_type": "stream",
          "name": "stdout",
          "text": [
            "date: 2023-09-16\n"
          ]
        }
      ]
    },
    {
      "cell_type": "code",
      "source": [
        "data = yf.download('BTC-USD', start=past, interval='5m')\n",
        "data.reset_index(inplace=True)\n",
        "#utc to pdt timezone\n",
        "data['Datetime'] = pd.to_datetime(data['Datetime']) - timedelta(hours=7)\n",
        "data['Datetime'] = data['Datetime'].dt.strftime('%Y/%m/%d %H:%M:%S')"
      ],
      "metadata": {
        "colab": {
          "base_uri": "https://localhost:8080/"
        },
        "id": "keEJoJgKuefy",
        "outputId": "66cbb004-6817-44f3-98bb-f8340e4d55fb"
      },
      "execution_count": 10,
      "outputs": [
        {
          "output_type": "stream",
          "name": "stdout",
          "text": [
            "\r[*********************100%%**********************]  1 of 1 completed\n"
          ]
        }
      ]
    },
    {
      "cell_type": "code",
      "source": [
        "data.reset_index(inplace=True)\n",
        "data = data[['Datetime','Close']]\n",
        "data.columns = ['ds','y']\n",
        "data"
      ],
      "metadata": {
        "colab": {
          "base_uri": "https://localhost:8080/",
          "height": 424
        },
        "id": "0u6qrfttuqWU",
        "outputId": "ed110f1a-2536-4fd7-eb6a-4e5baeded8e7"
      },
      "execution_count": 12,
      "outputs": [
        {
          "output_type": "execute_result",
          "data": {
            "text/plain": [
              "                      ds             y\n",
              "0    2023/09/15 17:00:00  26606.925781\n",
              "1    2023/09/15 17:05:00  26628.158203\n",
              "2    2023/09/15 17:10:00  26629.873047\n",
              "3    2023/09/15 17:15:00  26629.667969\n",
              "4    2023/09/15 17:20:00  26656.228516\n",
              "..                   ...           ...\n",
              "259  2023/09/16 14:35:00  26575.505859\n",
              "260  2023/09/16 14:40:00  26591.183594\n",
              "261  2023/09/16 14:45:00  26582.869141\n",
              "262  2023/09/16 17:00:00  26569.785156\n",
              "263  2023/09/16 17:05:00  26567.609375\n",
              "\n",
              "[264 rows x 2 columns]"
            ],
            "text/html": [
              "\n",
              "  <div id=\"df-3065a9b1-29c8-493d-bd05-431157a3ca08\" class=\"colab-df-container\">\n",
              "    <div>\n",
              "<style scoped>\n",
              "    .dataframe tbody tr th:only-of-type {\n",
              "        vertical-align: middle;\n",
              "    }\n",
              "\n",
              "    .dataframe tbody tr th {\n",
              "        vertical-align: top;\n",
              "    }\n",
              "\n",
              "    .dataframe thead th {\n",
              "        text-align: right;\n",
              "    }\n",
              "</style>\n",
              "<table border=\"1\" class=\"dataframe\">\n",
              "  <thead>\n",
              "    <tr style=\"text-align: right;\">\n",
              "      <th></th>\n",
              "      <th>ds</th>\n",
              "      <th>y</th>\n",
              "    </tr>\n",
              "  </thead>\n",
              "  <tbody>\n",
              "    <tr>\n",
              "      <th>0</th>\n",
              "      <td>2023/09/15 17:00:00</td>\n",
              "      <td>26606.925781</td>\n",
              "    </tr>\n",
              "    <tr>\n",
              "      <th>1</th>\n",
              "      <td>2023/09/15 17:05:00</td>\n",
              "      <td>26628.158203</td>\n",
              "    </tr>\n",
              "    <tr>\n",
              "      <th>2</th>\n",
              "      <td>2023/09/15 17:10:00</td>\n",
              "      <td>26629.873047</td>\n",
              "    </tr>\n",
              "    <tr>\n",
              "      <th>3</th>\n",
              "      <td>2023/09/15 17:15:00</td>\n",
              "      <td>26629.667969</td>\n",
              "    </tr>\n",
              "    <tr>\n",
              "      <th>4</th>\n",
              "      <td>2023/09/15 17:20:00</td>\n",
              "      <td>26656.228516</td>\n",
              "    </tr>\n",
              "    <tr>\n",
              "      <th>...</th>\n",
              "      <td>...</td>\n",
              "      <td>...</td>\n",
              "    </tr>\n",
              "    <tr>\n",
              "      <th>259</th>\n",
              "      <td>2023/09/16 14:35:00</td>\n",
              "      <td>26575.505859</td>\n",
              "    </tr>\n",
              "    <tr>\n",
              "      <th>260</th>\n",
              "      <td>2023/09/16 14:40:00</td>\n",
              "      <td>26591.183594</td>\n",
              "    </tr>\n",
              "    <tr>\n",
              "      <th>261</th>\n",
              "      <td>2023/09/16 14:45:00</td>\n",
              "      <td>26582.869141</td>\n",
              "    </tr>\n",
              "    <tr>\n",
              "      <th>262</th>\n",
              "      <td>2023/09/16 17:00:00</td>\n",
              "      <td>26569.785156</td>\n",
              "    </tr>\n",
              "    <tr>\n",
              "      <th>263</th>\n",
              "      <td>2023/09/16 17:05:00</td>\n",
              "      <td>26567.609375</td>\n",
              "    </tr>\n",
              "  </tbody>\n",
              "</table>\n",
              "<p>264 rows × 2 columns</p>\n",
              "</div>\n",
              "    <div class=\"colab-df-buttons\">\n",
              "\n",
              "  <div class=\"colab-df-container\">\n",
              "    <button class=\"colab-df-convert\" onclick=\"convertToInteractive('df-3065a9b1-29c8-493d-bd05-431157a3ca08')\"\n",
              "            title=\"Convert this dataframe to an interactive table.\"\n",
              "            style=\"display:none;\">\n",
              "\n",
              "  <svg xmlns=\"http://www.w3.org/2000/svg\" height=\"24px\" viewBox=\"0 -960 960 960\">\n",
              "    <path d=\"M120-120v-720h720v720H120Zm60-500h600v-160H180v160Zm220 220h160v-160H400v160Zm0 220h160v-160H400v160ZM180-400h160v-160H180v160Zm440 0h160v-160H620v160ZM180-180h160v-160H180v160Zm440 0h160v-160H620v160Z\"/>\n",
              "  </svg>\n",
              "    </button>\n",
              "\n",
              "  <style>\n",
              "    .colab-df-container {\n",
              "      display:flex;\n",
              "      gap: 12px;\n",
              "    }\n",
              "\n",
              "    .colab-df-convert {\n",
              "      background-color: #E8F0FE;\n",
              "      border: none;\n",
              "      border-radius: 50%;\n",
              "      cursor: pointer;\n",
              "      display: none;\n",
              "      fill: #1967D2;\n",
              "      height: 32px;\n",
              "      padding: 0 0 0 0;\n",
              "      width: 32px;\n",
              "    }\n",
              "\n",
              "    .colab-df-convert:hover {\n",
              "      background-color: #E2EBFA;\n",
              "      box-shadow: 0px 1px 2px rgba(60, 64, 67, 0.3), 0px 1px 3px 1px rgba(60, 64, 67, 0.15);\n",
              "      fill: #174EA6;\n",
              "    }\n",
              "\n",
              "    .colab-df-buttons div {\n",
              "      margin-bottom: 4px;\n",
              "    }\n",
              "\n",
              "    [theme=dark] .colab-df-convert {\n",
              "      background-color: #3B4455;\n",
              "      fill: #D2E3FC;\n",
              "    }\n",
              "\n",
              "    [theme=dark] .colab-df-convert:hover {\n",
              "      background-color: #434B5C;\n",
              "      box-shadow: 0px 1px 3px 1px rgba(0, 0, 0, 0.15);\n",
              "      filter: drop-shadow(0px 1px 2px rgba(0, 0, 0, 0.3));\n",
              "      fill: #FFFFFF;\n",
              "    }\n",
              "  </style>\n",
              "\n",
              "    <script>\n",
              "      const buttonEl =\n",
              "        document.querySelector('#df-3065a9b1-29c8-493d-bd05-431157a3ca08 button.colab-df-convert');\n",
              "      buttonEl.style.display =\n",
              "        google.colab.kernel.accessAllowed ? 'block' : 'none';\n",
              "\n",
              "      async function convertToInteractive(key) {\n",
              "        const element = document.querySelector('#df-3065a9b1-29c8-493d-bd05-431157a3ca08');\n",
              "        const dataTable =\n",
              "          await google.colab.kernel.invokeFunction('convertToInteractive',\n",
              "                                                    [key], {});\n",
              "        if (!dataTable) return;\n",
              "\n",
              "        const docLinkHtml = 'Like what you see? Visit the ' +\n",
              "          '<a target=\"_blank\" href=https://colab.research.google.com/notebooks/data_table.ipynb>data table notebook</a>'\n",
              "          + ' to learn more about interactive tables.';\n",
              "        element.innerHTML = '';\n",
              "        dataTable['output_type'] = 'display_data';\n",
              "        await google.colab.output.renderOutput(dataTable, element);\n",
              "        const docLink = document.createElement('div');\n",
              "        docLink.innerHTML = docLinkHtml;\n",
              "        element.appendChild(docLink);\n",
              "      }\n",
              "    </script>\n",
              "  </div>\n",
              "\n",
              "\n",
              "<div id=\"df-a942ea39-2bf3-4fa3-97ea-e08f75bee8fd\">\n",
              "  <button class=\"colab-df-quickchart\" onclick=\"quickchart('df-a942ea39-2bf3-4fa3-97ea-e08f75bee8fd')\"\n",
              "            title=\"Suggest charts.\"\n",
              "            style=\"display:none;\">\n",
              "\n",
              "<svg xmlns=\"http://www.w3.org/2000/svg\" height=\"24px\"viewBox=\"0 0 24 24\"\n",
              "     width=\"24px\">\n",
              "    <g>\n",
              "        <path d=\"M19 3H5c-1.1 0-2 .9-2 2v14c0 1.1.9 2 2 2h14c1.1 0 2-.9 2-2V5c0-1.1-.9-2-2-2zM9 17H7v-7h2v7zm4 0h-2V7h2v10zm4 0h-2v-4h2v4z\"/>\n",
              "    </g>\n",
              "</svg>\n",
              "  </button>\n",
              "\n",
              "<style>\n",
              "  .colab-df-quickchart {\n",
              "      --bg-color: #E8F0FE;\n",
              "      --fill-color: #1967D2;\n",
              "      --hover-bg-color: #E2EBFA;\n",
              "      --hover-fill-color: #174EA6;\n",
              "      --disabled-fill-color: #AAA;\n",
              "      --disabled-bg-color: #DDD;\n",
              "  }\n",
              "\n",
              "  [theme=dark] .colab-df-quickchart {\n",
              "      --bg-color: #3B4455;\n",
              "      --fill-color: #D2E3FC;\n",
              "      --hover-bg-color: #434B5C;\n",
              "      --hover-fill-color: #FFFFFF;\n",
              "      --disabled-bg-color: #3B4455;\n",
              "      --disabled-fill-color: #666;\n",
              "  }\n",
              "\n",
              "  .colab-df-quickchart {\n",
              "    background-color: var(--bg-color);\n",
              "    border: none;\n",
              "    border-radius: 50%;\n",
              "    cursor: pointer;\n",
              "    display: none;\n",
              "    fill: var(--fill-color);\n",
              "    height: 32px;\n",
              "    padding: 0;\n",
              "    width: 32px;\n",
              "  }\n",
              "\n",
              "  .colab-df-quickchart:hover {\n",
              "    background-color: var(--hover-bg-color);\n",
              "    box-shadow: 0 1px 2px rgba(60, 64, 67, 0.3), 0 1px 3px 1px rgba(60, 64, 67, 0.15);\n",
              "    fill: var(--button-hover-fill-color);\n",
              "  }\n",
              "\n",
              "  .colab-df-quickchart-complete:disabled,\n",
              "  .colab-df-quickchart-complete:disabled:hover {\n",
              "    background-color: var(--disabled-bg-color);\n",
              "    fill: var(--disabled-fill-color);\n",
              "    box-shadow: none;\n",
              "  }\n",
              "\n",
              "  .colab-df-spinner {\n",
              "    border: 2px solid var(--fill-color);\n",
              "    border-color: transparent;\n",
              "    border-bottom-color: var(--fill-color);\n",
              "    animation:\n",
              "      spin 1s steps(1) infinite;\n",
              "  }\n",
              "\n",
              "  @keyframes spin {\n",
              "    0% {\n",
              "      border-color: transparent;\n",
              "      border-bottom-color: var(--fill-color);\n",
              "      border-left-color: var(--fill-color);\n",
              "    }\n",
              "    20% {\n",
              "      border-color: transparent;\n",
              "      border-left-color: var(--fill-color);\n",
              "      border-top-color: var(--fill-color);\n",
              "    }\n",
              "    30% {\n",
              "      border-color: transparent;\n",
              "      border-left-color: var(--fill-color);\n",
              "      border-top-color: var(--fill-color);\n",
              "      border-right-color: var(--fill-color);\n",
              "    }\n",
              "    40% {\n",
              "      border-color: transparent;\n",
              "      border-right-color: var(--fill-color);\n",
              "      border-top-color: var(--fill-color);\n",
              "    }\n",
              "    60% {\n",
              "      border-color: transparent;\n",
              "      border-right-color: var(--fill-color);\n",
              "    }\n",
              "    80% {\n",
              "      border-color: transparent;\n",
              "      border-right-color: var(--fill-color);\n",
              "      border-bottom-color: var(--fill-color);\n",
              "    }\n",
              "    90% {\n",
              "      border-color: transparent;\n",
              "      border-bottom-color: var(--fill-color);\n",
              "    }\n",
              "  }\n",
              "</style>\n",
              "\n",
              "  <script>\n",
              "    async function quickchart(key) {\n",
              "      const quickchartButtonEl =\n",
              "        document.querySelector('#' + key + ' button');\n",
              "      quickchartButtonEl.disabled = true;  // To prevent multiple clicks.\n",
              "      quickchartButtonEl.classList.add('colab-df-spinner');\n",
              "      try {\n",
              "        const charts = await google.colab.kernel.invokeFunction(\n",
              "            'suggestCharts', [key], {});\n",
              "      } catch (error) {\n",
              "        console.error('Error during call to suggestCharts:', error);\n",
              "      }\n",
              "      quickchartButtonEl.classList.remove('colab-df-spinner');\n",
              "      quickchartButtonEl.classList.add('colab-df-quickchart-complete');\n",
              "    }\n",
              "    (() => {\n",
              "      let quickchartButtonEl =\n",
              "        document.querySelector('#df-a942ea39-2bf3-4fa3-97ea-e08f75bee8fd button');\n",
              "      quickchartButtonEl.style.display =\n",
              "        google.colab.kernel.accessAllowed ? 'block' : 'none';\n",
              "    })();\n",
              "  </script>\n",
              "</div>\n",
              "    </div>\n",
              "  </div>\n"
            ]
          },
          "metadata": {},
          "execution_count": 12
        }
      ]
    },
    {
      "cell_type": "code",
      "source": [
        "prophet = Prophet(daily_seasonality=False)\n",
        "prophet.add_seasonality(name='hourly', period=0.0416, fourier_order=1)\n",
        "prophet.fit(data)"
      ],
      "metadata": {
        "colab": {
          "base_uri": "https://localhost:8080/"
        },
        "id": "eQe6LY6AxfrY",
        "outputId": "e93ae9e7-a56d-453f-cdbd-67f2eeda9136"
      },
      "execution_count": 13,
      "outputs": [
        {
          "output_type": "stream",
          "name": "stderr",
          "text": [
            "INFO:prophet:Disabling yearly seasonality. Run prophet with yearly_seasonality=True to override this.\n",
            "INFO:prophet:Disabling weekly seasonality. Run prophet with weekly_seasonality=True to override this.\n",
            "DEBUG:cmdstanpy:input tempfile: /tmp/tmpi5w3c43n/eqmn255e.json\n",
            "DEBUG:cmdstanpy:input tempfile: /tmp/tmpi5w3c43n/2klserj2.json\n",
            "DEBUG:cmdstanpy:idx 0\n",
            "DEBUG:cmdstanpy:running CmdStan, num_threads: None\n",
            "DEBUG:cmdstanpy:CmdStan args: ['/usr/local/lib/python3.10/dist-packages/prophet/stan_model/prophet_model.bin', 'random', 'seed=67211', 'data', 'file=/tmp/tmpi5w3c43n/eqmn255e.json', 'init=/tmp/tmpi5w3c43n/2klserj2.json', 'output', 'file=/tmp/tmpi5w3c43n/prophet_modelu9j8882j/prophet_model-20230917000955.csv', 'method=optimize', 'algorithm=lbfgs', 'iter=10000']\n",
            "00:09:55 - cmdstanpy - INFO - Chain [1] start processing\n",
            "INFO:cmdstanpy:Chain [1] start processing\n",
            "00:09:56 - cmdstanpy - INFO - Chain [1] done processing\n",
            "INFO:cmdstanpy:Chain [1] done processing\n"
          ]
        },
        {
          "output_type": "execute_result",
          "data": {
            "text/plain": [
              "<prophet.forecaster.Prophet at 0x7ebec01fa200>"
            ]
          },
          "metadata": {},
          "execution_count": 13
        }
      ]
    },
    {
      "cell_type": "code",
      "source": [
        "future_dates = prophet.make_future_dataframe(periods=1)\n",
        "predictions = prophet.predict(future_dates)"
      ],
      "metadata": {
        "id": "GvIZN2zRxseB"
      },
      "execution_count": 14,
      "outputs": []
    },
    {
      "cell_type": "code",
      "source": [
        "from prophet.plot import plot_plotly\n",
        "\n",
        "plot_plotly(prophet, predictions)"
      ],
      "metadata": {
        "colab": {
          "base_uri": "https://localhost:8080/",
          "height": 617
        },
        "id": "6bBm7zDkx94j",
        "outputId": "a195d032-53bf-4913-8930-8197878356fc"
      },
      "execution_count": 15,
      "outputs": [
        {
          "output_type": "display_data",
          "data": {
            "text/html": [
              "<html>\n",
              "<head><meta charset=\"utf-8\" /></head>\n",
              "<body>\n",
              "    <div>            <script src=\"https://cdnjs.cloudflare.com/ajax/libs/mathjax/2.7.5/MathJax.js?config=TeX-AMS-MML_SVG\"></script><script type=\"text/javascript\">if (window.MathJax && window.MathJax.Hub && window.MathJax.Hub.Config) {window.MathJax.Hub.Config({SVG: {font: \"STIX-Web\"}});}</script>                <script type=\"text/javascript\">window.PlotlyConfig = {MathJaxConfig: 'local'};</script>\n",
              "        <script charset=\"utf-8\" src=\"https://cdn.plot.ly/plotly-2.24.1.min.js\"></script>                <div id=\"48d93ce7-8918-4c4c-aab9-fda080f174b5\" class=\"plotly-graph-div\" style=\"height:600px; width:900px;\"></div>            <script type=\"text/javascript\">                                    window.PLOTLYENV=window.PLOTLYENV || {};                                    if (document.getElementById(\"48d93ce7-8918-4c4c-aab9-fda080f174b5\")) {                    Plotly.newPlot(                        \"48d93ce7-8918-4c4c-aab9-fda080f174b5\",                        [{\"marker\":{\"color\":\"black\",\"size\":4},\"mode\":\"markers\",\"name\":\"Actual\",\"x\":[\"2023-09-15T17:00:00\",\"2023-09-15T17:05:00\",\"2023-09-15T17:10:00\",\"2023-09-15T17:15:00\",\"2023-09-15T17:20:00\",\"2023-09-15T17:25:00\",\"2023-09-15T17:30:00\",\"2023-09-15T17:35:00\",\"2023-09-15T17:40:00\",\"2023-09-15T17:45:00\",\"2023-09-15T17:50:00\",\"2023-09-15T17:55:00\",\"2023-09-15T18:00:00\",\"2023-09-15T18:05:00\",\"2023-09-15T18:10:00\",\"2023-09-15T18:15:00\",\"2023-09-15T18:20:00\",\"2023-09-15T18:25:00\",\"2023-09-15T18:30:00\",\"2023-09-15T18:35:00\",\"2023-09-15T18:40:00\",\"2023-09-15T18:45:00\",\"2023-09-15T18:50:00\",\"2023-09-15T18:55:00\",\"2023-09-15T19:00:00\",\"2023-09-15T19:05:00\",\"2023-09-15T19:10:00\",\"2023-09-15T19:15:00\",\"2023-09-15T19:20:00\",\"2023-09-15T19:25:00\",\"2023-09-15T19:30:00\",\"2023-09-15T19:35:00\",\"2023-09-15T19:40:00\",\"2023-09-15T19:45:00\",\"2023-09-15T19:50:00\",\"2023-09-15T19:55:00\",\"2023-09-15T20:00:00\",\"2023-09-15T20:05:00\",\"2023-09-15T20:10:00\",\"2023-09-15T20:15:00\",\"2023-09-15T20:20:00\",\"2023-09-15T20:25:00\",\"2023-09-15T20:30:00\",\"2023-09-15T20:35:00\",\"2023-09-15T20:40:00\",\"2023-09-15T20:45:00\",\"2023-09-15T20:50:00\",\"2023-09-15T20:55:00\",\"2023-09-15T21:00:00\",\"2023-09-15T21:05:00\",\"2023-09-15T21:10:00\",\"2023-09-15T21:15:00\",\"2023-09-15T21:20:00\",\"2023-09-15T21:25:00\",\"2023-09-15T21:30:00\",\"2023-09-15T21:35:00\",\"2023-09-15T21:40:00\",\"2023-09-15T21:45:00\",\"2023-09-15T21:50:00\",\"2023-09-15T21:55:00\",\"2023-09-15T22:00:00\",\"2023-09-15T22:05:00\",\"2023-09-15T22:10:00\",\"2023-09-15T22:15:00\",\"2023-09-15T22:20:00\",\"2023-09-15T22:25:00\",\"2023-09-15T22:30:00\",\"2023-09-15T22:35:00\",\"2023-09-15T22:40:00\",\"2023-09-15T22:45:00\",\"2023-09-15T22:50:00\",\"2023-09-15T22:55:00\",\"2023-09-15T23:00:00\",\"2023-09-15T23:05:00\",\"2023-09-15T23:10:00\",\"2023-09-15T23:15:00\",\"2023-09-15T23:20:00\",\"2023-09-15T23:25:00\",\"2023-09-15T23:30:00\",\"2023-09-15T23:35:00\",\"2023-09-15T23:40:00\",\"2023-09-15T23:45:00\",\"2023-09-15T23:50:00\",\"2023-09-15T23:55:00\",\"2023-09-16T00:00:00\",\"2023-09-16T00:05:00\",\"2023-09-16T00:10:00\",\"2023-09-16T00:15:00\",\"2023-09-16T00:20:00\",\"2023-09-16T00:25:00\",\"2023-09-16T00:30:00\",\"2023-09-16T00:35:00\",\"2023-09-16T00:40:00\",\"2023-09-16T00:45:00\",\"2023-09-16T00:50:00\",\"2023-09-16T00:55:00\",\"2023-09-16T01:00:00\",\"2023-09-16T01:05:00\",\"2023-09-16T01:10:00\",\"2023-09-16T01:15:00\",\"2023-09-16T01:20:00\",\"2023-09-16T01:25:00\",\"2023-09-16T01:30:00\",\"2023-09-16T01:35:00\",\"2023-09-16T01:40:00\",\"2023-09-16T01:45:00\",\"2023-09-16T01:50:00\",\"2023-09-16T01:55:00\",\"2023-09-16T02:00:00\",\"2023-09-16T02:05:00\",\"2023-09-16T02:10:00\",\"2023-09-16T02:15:00\",\"2023-09-16T02:20:00\",\"2023-09-16T02:25:00\",\"2023-09-16T02:30:00\",\"2023-09-16T02:35:00\",\"2023-09-16T02:40:00\",\"2023-09-16T02:45:00\",\"2023-09-16T02:50:00\",\"2023-09-16T02:55:00\",\"2023-09-16T03:00:00\",\"2023-09-16T03:05:00\",\"2023-09-16T03:10:00\",\"2023-09-16T03:15:00\",\"2023-09-16T03:20:00\",\"2023-09-16T03:25:00\",\"2023-09-16T03:30:00\",\"2023-09-16T03:35:00\",\"2023-09-16T03:40:00\",\"2023-09-16T03:45:00\",\"2023-09-16T03:50:00\",\"2023-09-16T03:55:00\",\"2023-09-16T04:00:00\",\"2023-09-16T04:05:00\",\"2023-09-16T04:10:00\",\"2023-09-16T04:15:00\",\"2023-09-16T04:20:00\",\"2023-09-16T04:25:00\",\"2023-09-16T04:30:00\",\"2023-09-16T04:35:00\",\"2023-09-16T04:40:00\",\"2023-09-16T04:45:00\",\"2023-09-16T04:50:00\",\"2023-09-16T04:55:00\",\"2023-09-16T05:00:00\",\"2023-09-16T05:05:00\",\"2023-09-16T05:10:00\",\"2023-09-16T05:15:00\",\"2023-09-16T05:20:00\",\"2023-09-16T05:25:00\",\"2023-09-16T05:30:00\",\"2023-09-16T05:35:00\",\"2023-09-16T05:40:00\",\"2023-09-16T05:45:00\",\"2023-09-16T05:50:00\",\"2023-09-16T05:55:00\",\"2023-09-16T06:00:00\",\"2023-09-16T06:05:00\",\"2023-09-16T06:10:00\",\"2023-09-16T06:15:00\",\"2023-09-16T06:20:00\",\"2023-09-16T06:25:00\",\"2023-09-16T06:30:00\",\"2023-09-16T06:35:00\",\"2023-09-16T06:40:00\",\"2023-09-16T06:45:00\",\"2023-09-16T06:50:00\",\"2023-09-16T06:55:00\",\"2023-09-16T07:00:00\",\"2023-09-16T07:05:00\",\"2023-09-16T07:10:00\",\"2023-09-16T07:15:00\",\"2023-09-16T07:20:00\",\"2023-09-16T07:25:00\",\"2023-09-16T07:30:00\",\"2023-09-16T07:35:00\",\"2023-09-16T07:40:00\",\"2023-09-16T07:45:00\",\"2023-09-16T07:50:00\",\"2023-09-16T07:55:00\",\"2023-09-16T08:00:00\",\"2023-09-16T08:05:00\",\"2023-09-16T08:10:00\",\"2023-09-16T08:15:00\",\"2023-09-16T08:20:00\",\"2023-09-16T08:25:00\",\"2023-09-16T08:30:00\",\"2023-09-16T08:35:00\",\"2023-09-16T08:40:00\",\"2023-09-16T08:45:00\",\"2023-09-16T08:50:00\",\"2023-09-16T08:55:00\",\"2023-09-16T09:00:00\",\"2023-09-16T09:05:00\",\"2023-09-16T09:10:00\",\"2023-09-16T09:15:00\",\"2023-09-16T09:20:00\",\"2023-09-16T09:25:00\",\"2023-09-16T09:30:00\",\"2023-09-16T09:35:00\",\"2023-09-16T09:40:00\",\"2023-09-16T09:45:00\",\"2023-09-16T09:50:00\",\"2023-09-16T09:55:00\",\"2023-09-16T10:00:00\",\"2023-09-16T10:05:00\",\"2023-09-16T10:10:00\",\"2023-09-16T10:15:00\",\"2023-09-16T10:20:00\",\"2023-09-16T10:25:00\",\"2023-09-16T10:30:00\",\"2023-09-16T10:35:00\",\"2023-09-16T10:40:00\",\"2023-09-16T10:45:00\",\"2023-09-16T10:50:00\",\"2023-09-16T10:55:00\",\"2023-09-16T11:00:00\",\"2023-09-16T11:05:00\",\"2023-09-16T11:10:00\",\"2023-09-16T11:15:00\",\"2023-09-16T11:20:00\",\"2023-09-16T11:25:00\",\"2023-09-16T11:30:00\",\"2023-09-16T11:35:00\",\"2023-09-16T11:40:00\",\"2023-09-16T11:45:00\",\"2023-09-16T11:50:00\",\"2023-09-16T11:55:00\",\"2023-09-16T12:00:00\",\"2023-09-16T12:05:00\",\"2023-09-16T12:10:00\",\"2023-09-16T12:15:00\",\"2023-09-16T12:20:00\",\"2023-09-16T12:25:00\",\"2023-09-16T12:30:00\",\"2023-09-16T12:35:00\",\"2023-09-16T12:40:00\",\"2023-09-16T12:45:00\",\"2023-09-16T12:50:00\",\"2023-09-16T12:55:00\",\"2023-09-16T13:00:00\",\"2023-09-16T13:05:00\",\"2023-09-16T13:10:00\",\"2023-09-16T13:15:00\",\"2023-09-16T13:20:00\",\"2023-09-16T13:25:00\",\"2023-09-16T13:30:00\",\"2023-09-16T13:35:00\",\"2023-09-16T13:40:00\",\"2023-09-16T13:45:00\",\"2023-09-16T13:50:00\",\"2023-09-16T13:55:00\",\"2023-09-16T14:00:00\",\"2023-09-16T14:05:00\",\"2023-09-16T14:10:00\",\"2023-09-16T14:15:00\",\"2023-09-16T14:20:00\",\"2023-09-16T14:25:00\",\"2023-09-16T14:30:00\",\"2023-09-16T14:35:00\",\"2023-09-16T14:40:00\",\"2023-09-16T14:45:00\",\"2023-09-16T17:00:00\",\"2023-09-16T17:05:00\"],\"y\":[26606.92578125,26628.158203125,26629.873046875,26629.66796875,26656.228515625,26653.2421875,26674.35546875,26655.72265625,26634.99609375,26642.005859375,26658.955078125,26659.5703125,26649.11328125,26661.494140625,26678.07421875,26679.529296875,26644.111328125,26629.318359375,26614.4921875,26622.5703125,26618.376953125,26637.591796875,26642.55078125,26648.759765625,26661.55078125,26677.478515625,26714.119140625,26722.455078125,26740.220703125,26701.2265625,26675.056640625,26682.2265625,26693.201171875,26722.728515625,26717.029296875,26692.173828125,26700.673828125,26700.443359375,26689.125,26665.240234375,26680.220703125,26683.517578125,26671.154296875,26674.033203125,26666.583984375,26660.708984375,26643.724609375,26631.01171875,26612.20703125,26605.0390625,26602.287109375,26614.349609375,26617.48046875,26577.96875,26599.349609375,26612.845703125,26609.34375,26614.607421875,26613.708984375,26596.79296875,26586.052734375,26573.052734375,26557.95703125,26574.904296875,26541.48828125,26553.634765625,26555.435546875,26549.8203125,26545.16015625,26543.607421875,26546.8984375,26550.517578125,26525.791015625,26527.3515625,26529.390625,26509.115234375,26508.673828125,26496.703125,26499.150390625,26491.490234375,26486.13671875,26486.640625,26475.333984375,26480.1796875,26508.15234375,26507.1484375,26504.142578125,26502.736328125,26497.466796875,26493.90234375,26505.64453125,26500.123046875,26496.712890625,26497.365234375,26499.626953125,26498.6953125,26497.6953125,26496.298828125,26489.353515625,26483.83203125,26495.392578125,26493.564453125,26521.52734375,26519.267578125,26528.65234375,26536.025390625,26521.0859375,26524.33984375,26527.21484375,26524.52734375,26524.462890625,26526.421875,26528.97265625,26537.392578125,26554.609375,26563.74609375,26571.046875,26571.65625,26552.984375,26547.46875,26491.25,26487.60546875,26522.93359375,26529.376953125,26521.283203125,26510.90234375,26527.177734375,26528.283203125,26535.90234375,26537.107421875,26537.576171875,26539.646484375,26545.755859375,26534.2421875,26535.087890625,26524.400390625,26525.923828125,26514.91796875,26510.0546875,26518.93359375,26537.201171875,26550.07421875,26529.41015625,26535.623046875,26521.041015625,26518.03125,26513.31640625,26515.38671875,26532.216796875,26535.59375,26540.45703125,26547.509765625,26556.828125,26573.69140625,26576.958984375,26565.158203125,26567.69140625,26570.22265625,26547.703125,26539.4140625,26533.037109375,26543.884765625,26549.296875,26561.544921875,26545.50390625,26549.466796875,26565.3203125,26566.314453125,26559.67578125,26568.603515625,26567.29296875,26555.5078125,26556.40625,26557.359375,26548.7578125,26561.3984375,26559.765625,26525.88671875,26520.87109375,26509.697265625,26508.34765625,26530.3671875,26531.28125,26527.736328125,26544.119140625,26537.724609375,26539.53515625,26540.943359375,26540.171875,26540.83203125,26535.12890625,26534.498046875,26516.837890625,26526.1171875,26529.884765625,26537.251953125,26535.978515625,26527.36328125,26529.046875,26534.3203125,26537.87109375,26533.45703125,26538.80078125,26536.341796875,26537.45703125,26536.65234375,26528.4375,26534.888671875,26537.951171875,26545.58203125,26575.27734375,26575.39453125,26600.96875,26598.41796875,26587.115234375,26588.189453125,26578.318359375,26610.947265625,26590.986328125,26574.216796875,26583.265625,26578.865234375,26578.666015625,26582.490234375,26572.18359375,26577.94140625,26575.68359375,26584.94140625,26589.326171875,26560.54296875,26553.203125,26549.59375,26542.3984375,26540.826171875,26540.70703125,26543.642578125,26540.953125,26529.916015625,26537.716796875,26543.142578125,26541.201171875,26541.619140625,26545.51953125,26554.201171875,26546.029296875,26542.353515625,26546.4765625,26555.001953125,26568.048828125,26558.9375,26541.0625,26537.48828125,26543.7578125,26546.08984375,26545.576171875,26552.33203125,26558.275390625,26585.775390625,26560.107421875,26575.505859375,26591.18359375,26582.869140625,26569.78515625,26567.609375],\"type\":\"scatter\"},{\"hoverinfo\":\"skip\",\"line\":{\"width\":0},\"mode\":\"lines\",\"x\":[\"2023-09-15T17:00:00\",\"2023-09-15T17:05:00\",\"2023-09-15T17:10:00\",\"2023-09-15T17:15:00\",\"2023-09-15T17:20:00\",\"2023-09-15T17:25:00\",\"2023-09-15T17:30:00\",\"2023-09-15T17:35:00\",\"2023-09-15T17:40:00\",\"2023-09-15T17:45:00\",\"2023-09-15T17:50:00\",\"2023-09-15T17:55:00\",\"2023-09-15T18:00:00\",\"2023-09-15T18:05:00\",\"2023-09-15T18:10:00\",\"2023-09-15T18:15:00\",\"2023-09-15T18:20:00\",\"2023-09-15T18:25:00\",\"2023-09-15T18:30:00\",\"2023-09-15T18:35:00\",\"2023-09-15T18:40:00\",\"2023-09-15T18:45:00\",\"2023-09-15T18:50:00\",\"2023-09-15T18:55:00\",\"2023-09-15T19:00:00\",\"2023-09-15T19:05:00\",\"2023-09-15T19:10:00\",\"2023-09-15T19:15:00\",\"2023-09-15T19:20:00\",\"2023-09-15T19:25:00\",\"2023-09-15T19:30:00\",\"2023-09-15T19:35:00\",\"2023-09-15T19:40:00\",\"2023-09-15T19:45:00\",\"2023-09-15T19:50:00\",\"2023-09-15T19:55:00\",\"2023-09-15T20:00:00\",\"2023-09-15T20:05:00\",\"2023-09-15T20:10:00\",\"2023-09-15T20:15:00\",\"2023-09-15T20:20:00\",\"2023-09-15T20:25:00\",\"2023-09-15T20:30:00\",\"2023-09-15T20:35:00\",\"2023-09-15T20:40:00\",\"2023-09-15T20:45:00\",\"2023-09-15T20:50:00\",\"2023-09-15T20:55:00\",\"2023-09-15T21:00:00\",\"2023-09-15T21:05:00\",\"2023-09-15T21:10:00\",\"2023-09-15T21:15:00\",\"2023-09-15T21:20:00\",\"2023-09-15T21:25:00\",\"2023-09-15T21:30:00\",\"2023-09-15T21:35:00\",\"2023-09-15T21:40:00\",\"2023-09-15T21:45:00\",\"2023-09-15T21:50:00\",\"2023-09-15T21:55:00\",\"2023-09-15T22:00:00\",\"2023-09-15T22:05:00\",\"2023-09-15T22:10:00\",\"2023-09-15T22:15:00\",\"2023-09-15T22:20:00\",\"2023-09-15T22:25:00\",\"2023-09-15T22:30:00\",\"2023-09-15T22:35:00\",\"2023-09-15T22:40:00\",\"2023-09-15T22:45:00\",\"2023-09-15T22:50:00\",\"2023-09-15T22:55:00\",\"2023-09-15T23:00:00\",\"2023-09-15T23:05:00\",\"2023-09-15T23:10:00\",\"2023-09-15T23:15:00\",\"2023-09-15T23:20:00\",\"2023-09-15T23:25:00\",\"2023-09-15T23:30:00\",\"2023-09-15T23:35:00\",\"2023-09-15T23:40:00\",\"2023-09-15T23:45:00\",\"2023-09-15T23:50:00\",\"2023-09-15T23:55:00\",\"2023-09-16T00:00:00\",\"2023-09-16T00:05:00\",\"2023-09-16T00:10:00\",\"2023-09-16T00:15:00\",\"2023-09-16T00:20:00\",\"2023-09-16T00:25:00\",\"2023-09-16T00:30:00\",\"2023-09-16T00:35:00\",\"2023-09-16T00:40:00\",\"2023-09-16T00:45:00\",\"2023-09-16T00:50:00\",\"2023-09-16T00:55:00\",\"2023-09-16T01:00:00\",\"2023-09-16T01:05:00\",\"2023-09-16T01:10:00\",\"2023-09-16T01:15:00\",\"2023-09-16T01:20:00\",\"2023-09-16T01:25:00\",\"2023-09-16T01:30:00\",\"2023-09-16T01:35:00\",\"2023-09-16T01:40:00\",\"2023-09-16T01:45:00\",\"2023-09-16T01:50:00\",\"2023-09-16T01:55:00\",\"2023-09-16T02:00:00\",\"2023-09-16T02:05:00\",\"2023-09-16T02:10:00\",\"2023-09-16T02:15:00\",\"2023-09-16T02:20:00\",\"2023-09-16T02:25:00\",\"2023-09-16T02:30:00\",\"2023-09-16T02:35:00\",\"2023-09-16T02:40:00\",\"2023-09-16T02:45:00\",\"2023-09-16T02:50:00\",\"2023-09-16T02:55:00\",\"2023-09-16T03:00:00\",\"2023-09-16T03:05:00\",\"2023-09-16T03:10:00\",\"2023-09-16T03:15:00\",\"2023-09-16T03:20:00\",\"2023-09-16T03:25:00\",\"2023-09-16T03:30:00\",\"2023-09-16T03:35:00\",\"2023-09-16T03:40:00\",\"2023-09-16T03:45:00\",\"2023-09-16T03:50:00\",\"2023-09-16T03:55:00\",\"2023-09-16T04:00:00\",\"2023-09-16T04:05:00\",\"2023-09-16T04:10:00\",\"2023-09-16T04:15:00\",\"2023-09-16T04:20:00\",\"2023-09-16T04:25:00\",\"2023-09-16T04:30:00\",\"2023-09-16T04:35:00\",\"2023-09-16T04:40:00\",\"2023-09-16T04:45:00\",\"2023-09-16T04:50:00\",\"2023-09-16T04:55:00\",\"2023-09-16T05:00:00\",\"2023-09-16T05:05:00\",\"2023-09-16T05:10:00\",\"2023-09-16T05:15:00\",\"2023-09-16T05:20:00\",\"2023-09-16T05:25:00\",\"2023-09-16T05:30:00\",\"2023-09-16T05:35:00\",\"2023-09-16T05:40:00\",\"2023-09-16T05:45:00\",\"2023-09-16T05:50:00\",\"2023-09-16T05:55:00\",\"2023-09-16T06:00:00\",\"2023-09-16T06:05:00\",\"2023-09-16T06:10:00\",\"2023-09-16T06:15:00\",\"2023-09-16T06:20:00\",\"2023-09-16T06:25:00\",\"2023-09-16T06:30:00\",\"2023-09-16T06:35:00\",\"2023-09-16T06:40:00\",\"2023-09-16T06:45:00\",\"2023-09-16T06:50:00\",\"2023-09-16T06:55:00\",\"2023-09-16T07:00:00\",\"2023-09-16T07:05:00\",\"2023-09-16T07:10:00\",\"2023-09-16T07:15:00\",\"2023-09-16T07:20:00\",\"2023-09-16T07:25:00\",\"2023-09-16T07:30:00\",\"2023-09-16T07:35:00\",\"2023-09-16T07:40:00\",\"2023-09-16T07:45:00\",\"2023-09-16T07:50:00\",\"2023-09-16T07:55:00\",\"2023-09-16T08:00:00\",\"2023-09-16T08:05:00\",\"2023-09-16T08:10:00\",\"2023-09-16T08:15:00\",\"2023-09-16T08:20:00\",\"2023-09-16T08:25:00\",\"2023-09-16T08:30:00\",\"2023-09-16T08:35:00\",\"2023-09-16T08:40:00\",\"2023-09-16T08:45:00\",\"2023-09-16T08:50:00\",\"2023-09-16T08:55:00\",\"2023-09-16T09:00:00\",\"2023-09-16T09:05:00\",\"2023-09-16T09:10:00\",\"2023-09-16T09:15:00\",\"2023-09-16T09:20:00\",\"2023-09-16T09:25:00\",\"2023-09-16T09:30:00\",\"2023-09-16T09:35:00\",\"2023-09-16T09:40:00\",\"2023-09-16T09:45:00\",\"2023-09-16T09:50:00\",\"2023-09-16T09:55:00\",\"2023-09-16T10:00:00\",\"2023-09-16T10:05:00\",\"2023-09-16T10:10:00\",\"2023-09-16T10:15:00\",\"2023-09-16T10:20:00\",\"2023-09-16T10:25:00\",\"2023-09-16T10:30:00\",\"2023-09-16T10:35:00\",\"2023-09-16T10:40:00\",\"2023-09-16T10:45:00\",\"2023-09-16T10:50:00\",\"2023-09-16T10:55:00\",\"2023-09-16T11:00:00\",\"2023-09-16T11:05:00\",\"2023-09-16T11:10:00\",\"2023-09-16T11:15:00\",\"2023-09-16T11:20:00\",\"2023-09-16T11:25:00\",\"2023-09-16T11:30:00\",\"2023-09-16T11:35:00\",\"2023-09-16T11:40:00\",\"2023-09-16T11:45:00\",\"2023-09-16T11:50:00\",\"2023-09-16T11:55:00\",\"2023-09-16T12:00:00\",\"2023-09-16T12:05:00\",\"2023-09-16T12:10:00\",\"2023-09-16T12:15:00\",\"2023-09-16T12:20:00\",\"2023-09-16T12:25:00\",\"2023-09-16T12:30:00\",\"2023-09-16T12:35:00\",\"2023-09-16T12:40:00\",\"2023-09-16T12:45:00\",\"2023-09-16T12:50:00\",\"2023-09-16T12:55:00\",\"2023-09-16T13:00:00\",\"2023-09-16T13:05:00\",\"2023-09-16T13:10:00\",\"2023-09-16T13:15:00\",\"2023-09-16T13:20:00\",\"2023-09-16T13:25:00\",\"2023-09-16T13:30:00\",\"2023-09-16T13:35:00\",\"2023-09-16T13:40:00\",\"2023-09-16T13:45:00\",\"2023-09-16T13:50:00\",\"2023-09-16T13:55:00\",\"2023-09-16T14:00:00\",\"2023-09-16T14:05:00\",\"2023-09-16T14:10:00\",\"2023-09-16T14:15:00\",\"2023-09-16T14:20:00\",\"2023-09-16T14:25:00\",\"2023-09-16T14:30:00\",\"2023-09-16T14:35:00\",\"2023-09-16T14:40:00\",\"2023-09-16T14:45:00\",\"2023-09-16T17:00:00\",\"2023-09-16T17:05:00\",\"2023-09-17T17:05:00\"],\"y\":[26606.14174269535,26608.96617604218,26609.866234373163,26614.472644131034,26620.73747844859,26625.752599154206,26630.51301435768,26636.746587026653,26644.540210518662,26640.932358351092,26638.141614303346,26634.586102167537,26631.18754483253,26626.87870514832,26623.266876691072,26619.02714218944,26616.633140788195,26616.08939752342,26622.035354098385,26629.724279273094,26635.007227789098,26639.628212690783,26644.692459685644,26650.320907169826,26652.305617073867,26655.556155016668,26658.47555084781,26662.021724883576,26665.470010060562,26671.60004880803,26677.109692041657,26680.508018483266,26687.10045178627,26693.861289048902,26695.7023717502,26687.895081599476,26680.514637274544,26675.95680738485,26668.68764322256,26662.53936416657,26656.17727666901,26651.676568538736,26648.63078436832,26645.006147098644,26638.814346013085,26632.79979238057,26624.333146520938,26617.4951485598,26607.297062818277,26597.852794280323,26592.96121318803,26588.24307645413,26586.010309064244,26585.22423848179,26582.81712916261,26582.520253331008,26580.835031167808,26579.579460502628,26576.81129830548,26572.450299361073,26565.01038404949,26558.744572332846,26552.33294896243,26546.57276351974,26544.04046197297,26539.60058779813,26536.142294085173,26531.81892913058,26529.874866144775,26524.278878542227,26518.476666965696,26512.413831941405,26505.72808519479,26500.33424839726,26494.954945127407,26488.489950245483,26483.446431842673,26483.339687296095,26482.93672504047,26482.654338394583,26481.76333497451,26483.150661317723,26478.438623140977,26475.985491060725,26472.60595878602,26472.797207333853,26470.400847893627,26471.22150581075,26470.707761262198,26474.97999930534,26476.206988832506,26479.0091171956,26480.69663475998,26480.470192676872,26482.67083326407,26480.727459217913,26480.25499996217,26480.447550405665,26480.19738705735,26480.301751359235,26481.777382218585,26484.830503099085,26489.044511971737,26494.868106657064,26499.03636936302,26502.754099111095,26505.6482038885,26508.917854210013,26509.64311800465,26511.274141593334,26513.190364453152,26511.331629528562,26514.28182178201,26517.149344194113,26517.81295547436,26520.7917977789,26521.516008781025,26524.888115559213,26523.521332238153,26520.52702392945,26516.99967494179,26515.173105571044,26510.420548465583,26510.057861912206,26508.273320899643,26504.943686446553,26505.743761374753,26506.472857926317,26509.343848780383,26510.890488902474,26510.843553058894,26510.773092091167,26507.793995035332,26507.71330472024,26508.791478279494,26506.448464612688,26505.78060392567,26506.79065731537,26507.60341370876,26509.671637647003,26509.925689994576,26509.415730953096,26508.17687771096,26508.860803871903,26509.17741914725,26508.410210805203,26510.77156993015,26513.052145901092,26518.025658818828,26519.661819980814,26525.795974085726,26529.02222507988,26531.529342201145,26533.791493190183,26533.009722325878,26534.336080019748,26531.853971122255,26529.733596338756,26531.119638658085,26530.959931246252,26533.446707936746,26534.75165456348,26538.185504367495,26538.913617656868,26543.12846354693,26543.389057990586,26543.717630290826,26542.71495336605,26541.293092445718,26538.179779078124,26533.12558467166,26530.613345165784,26528.939258246497,26526.442130036714,26525.37786418064,26523.457137315596,26521.92374549787,26520.84901769091,26520.97927297679,26518.106242500366,26516.461724434153,26514.800726887435,26513.309155618812,26511.12550480967,26512.66353191331,26511.934338571795,26514.576192365796,26515.585722245734,26515.56031645667,26517.460376163915,26516.223547706777,26514.309132347593,26511.72220886717,26509.54289797272,26508.271555147872,26509.21057969968,26508.698812242794,26509.82239391114,26511.89851221345,26513.00197647991,26513.549095707207,26514.306843833507,26513.04297138886,26516.780992547217,26519.47183795062,26524.434800665338,26528.50686598259,26533.05724837647,26537.830204414713,26545.54590715363,26552.169079125324,26553.894680423768,26553.664966241828,26553.350336067466,26552.53195430804,26551.459090496617,26548.739260571525,26546.938738513585,26546.574198872462,26545.666210046253,26545.620814604885,26546.66035642233,26548.02978023926,26548.547071599987,26550.120808761007,26550.48149706815,26549.78238423894,26546.295951483546,26545.437031961545,26542.438047540523,26542.717932356227,26542.040352189208,26541.108016972008,26542.551174555065,26544.46117265955,26546.49856460442,26546.92924044839,26545.986185661633,26544.26334594158,26543.90819455898,26541.103314485365,26540.595243341504,26538.165850970534,26536.81026770876,26539.261164721072,26539.282312313266,26539.2197333946,26541.797720126502,26542.701658329897,26541.600323952425,26540.589052522875,26539.79090529175,26537.09222944332,26535.13260053146,26534.539708863627,26534.927585594516,26533.58067493013,26536.937325731284,26536.120187951252,26537.74294181389,26539.136699565228,26539.200789535473,26525.811027576427,26525.357055939836,26436.425541052107],\"type\":\"scatter\"},{\"fill\":\"tonexty\",\"fillcolor\":\"rgba(0, 114, 178, 0.2)\",\"line\":{\"color\":\"#0072B2\",\"width\":2},\"mode\":\"lines\",\"name\":\"Predicted\",\"x\":[\"2023-09-15T17:00:00\",\"2023-09-15T17:05:00\",\"2023-09-15T17:10:00\",\"2023-09-15T17:15:00\",\"2023-09-15T17:20:00\",\"2023-09-15T17:25:00\",\"2023-09-15T17:30:00\",\"2023-09-15T17:35:00\",\"2023-09-15T17:40:00\",\"2023-09-15T17:45:00\",\"2023-09-15T17:50:00\",\"2023-09-15T17:55:00\",\"2023-09-15T18:00:00\",\"2023-09-15T18:05:00\",\"2023-09-15T18:10:00\",\"2023-09-15T18:15:00\",\"2023-09-15T18:20:00\",\"2023-09-15T18:25:00\",\"2023-09-15T18:30:00\",\"2023-09-15T18:35:00\",\"2023-09-15T18:40:00\",\"2023-09-15T18:45:00\",\"2023-09-15T18:50:00\",\"2023-09-15T18:55:00\",\"2023-09-15T19:00:00\",\"2023-09-15T19:05:00\",\"2023-09-15T19:10:00\",\"2023-09-15T19:15:00\",\"2023-09-15T19:20:00\",\"2023-09-15T19:25:00\",\"2023-09-15T19:30:00\",\"2023-09-15T19:35:00\",\"2023-09-15T19:40:00\",\"2023-09-15T19:45:00\",\"2023-09-15T19:50:00\",\"2023-09-15T19:55:00\",\"2023-09-15T20:00:00\",\"2023-09-15T20:05:00\",\"2023-09-15T20:10:00\",\"2023-09-15T20:15:00\",\"2023-09-15T20:20:00\",\"2023-09-15T20:25:00\",\"2023-09-15T20:30:00\",\"2023-09-15T20:35:00\",\"2023-09-15T20:40:00\",\"2023-09-15T20:45:00\",\"2023-09-15T20:50:00\",\"2023-09-15T20:55:00\",\"2023-09-15T21:00:00\",\"2023-09-15T21:05:00\",\"2023-09-15T21:10:00\",\"2023-09-15T21:15:00\",\"2023-09-15T21:20:00\",\"2023-09-15T21:25:00\",\"2023-09-15T21:30:00\",\"2023-09-15T21:35:00\",\"2023-09-15T21:40:00\",\"2023-09-15T21:45:00\",\"2023-09-15T21:50:00\",\"2023-09-15T21:55:00\",\"2023-09-15T22:00:00\",\"2023-09-15T22:05:00\",\"2023-09-15T22:10:00\",\"2023-09-15T22:15:00\",\"2023-09-15T22:20:00\",\"2023-09-15T22:25:00\",\"2023-09-15T22:30:00\",\"2023-09-15T22:35:00\",\"2023-09-15T22:40:00\",\"2023-09-15T22:45:00\",\"2023-09-15T22:50:00\",\"2023-09-15T22:55:00\",\"2023-09-15T23:00:00\",\"2023-09-15T23:05:00\",\"2023-09-15T23:10:00\",\"2023-09-15T23:15:00\",\"2023-09-15T23:20:00\",\"2023-09-15T23:25:00\",\"2023-09-15T23:30:00\",\"2023-09-15T23:35:00\",\"2023-09-15T23:40:00\",\"2023-09-15T23:45:00\",\"2023-09-15T23:50:00\",\"2023-09-15T23:55:00\",\"2023-09-16T00:00:00\",\"2023-09-16T00:05:00\",\"2023-09-16T00:10:00\",\"2023-09-16T00:15:00\",\"2023-09-16T00:20:00\",\"2023-09-16T00:25:00\",\"2023-09-16T00:30:00\",\"2023-09-16T00:35:00\",\"2023-09-16T00:40:00\",\"2023-09-16T00:45:00\",\"2023-09-16T00:50:00\",\"2023-09-16T00:55:00\",\"2023-09-16T01:00:00\",\"2023-09-16T01:05:00\",\"2023-09-16T01:10:00\",\"2023-09-16T01:15:00\",\"2023-09-16T01:20:00\",\"2023-09-16T01:25:00\",\"2023-09-16T01:30:00\",\"2023-09-16T01:35:00\",\"2023-09-16T01:40:00\",\"2023-09-16T01:45:00\",\"2023-09-16T01:50:00\",\"2023-09-16T01:55:00\",\"2023-09-16T02:00:00\",\"2023-09-16T02:05:00\",\"2023-09-16T02:10:00\",\"2023-09-16T02:15:00\",\"2023-09-16T02:20:00\",\"2023-09-16T02:25:00\",\"2023-09-16T02:30:00\",\"2023-09-16T02:35:00\",\"2023-09-16T02:40:00\",\"2023-09-16T02:45:00\",\"2023-09-16T02:50:00\",\"2023-09-16T02:55:00\",\"2023-09-16T03:00:00\",\"2023-09-16T03:05:00\",\"2023-09-16T03:10:00\",\"2023-09-16T03:15:00\",\"2023-09-16T03:20:00\",\"2023-09-16T03:25:00\",\"2023-09-16T03:30:00\",\"2023-09-16T03:35:00\",\"2023-09-16T03:40:00\",\"2023-09-16T03:45:00\",\"2023-09-16T03:50:00\",\"2023-09-16T03:55:00\",\"2023-09-16T04:00:00\",\"2023-09-16T04:05:00\",\"2023-09-16T04:10:00\",\"2023-09-16T04:15:00\",\"2023-09-16T04:20:00\",\"2023-09-16T04:25:00\",\"2023-09-16T04:30:00\",\"2023-09-16T04:35:00\",\"2023-09-16T04:40:00\",\"2023-09-16T04:45:00\",\"2023-09-16T04:50:00\",\"2023-09-16T04:55:00\",\"2023-09-16T05:00:00\",\"2023-09-16T05:05:00\",\"2023-09-16T05:10:00\",\"2023-09-16T05:15:00\",\"2023-09-16T05:20:00\",\"2023-09-16T05:25:00\",\"2023-09-16T05:30:00\",\"2023-09-16T05:35:00\",\"2023-09-16T05:40:00\",\"2023-09-16T05:45:00\",\"2023-09-16T05:50:00\",\"2023-09-16T05:55:00\",\"2023-09-16T06:00:00\",\"2023-09-16T06:05:00\",\"2023-09-16T06:10:00\",\"2023-09-16T06:15:00\",\"2023-09-16T06:20:00\",\"2023-09-16T06:25:00\",\"2023-09-16T06:30:00\",\"2023-09-16T06:35:00\",\"2023-09-16T06:40:00\",\"2023-09-16T06:45:00\",\"2023-09-16T06:50:00\",\"2023-09-16T06:55:00\",\"2023-09-16T07:00:00\",\"2023-09-16T07:05:00\",\"2023-09-16T07:10:00\",\"2023-09-16T07:15:00\",\"2023-09-16T07:20:00\",\"2023-09-16T07:25:00\",\"2023-09-16T07:30:00\",\"2023-09-16T07:35:00\",\"2023-09-16T07:40:00\",\"2023-09-16T07:45:00\",\"2023-09-16T07:50:00\",\"2023-09-16T07:55:00\",\"2023-09-16T08:00:00\",\"2023-09-16T08:05:00\",\"2023-09-16T08:10:00\",\"2023-09-16T08:15:00\",\"2023-09-16T08:20:00\",\"2023-09-16T08:25:00\",\"2023-09-16T08:30:00\",\"2023-09-16T08:35:00\",\"2023-09-16T08:40:00\",\"2023-09-16T08:45:00\",\"2023-09-16T08:50:00\",\"2023-09-16T08:55:00\",\"2023-09-16T09:00:00\",\"2023-09-16T09:05:00\",\"2023-09-16T09:10:00\",\"2023-09-16T09:15:00\",\"2023-09-16T09:20:00\",\"2023-09-16T09:25:00\",\"2023-09-16T09:30:00\",\"2023-09-16T09:35:00\",\"2023-09-16T09:40:00\",\"2023-09-16T09:45:00\",\"2023-09-16T09:50:00\",\"2023-09-16T09:55:00\",\"2023-09-16T10:00:00\",\"2023-09-16T10:05:00\",\"2023-09-16T10:10:00\",\"2023-09-16T10:15:00\",\"2023-09-16T10:20:00\",\"2023-09-16T10:25:00\",\"2023-09-16T10:30:00\",\"2023-09-16T10:35:00\",\"2023-09-16T10:40:00\",\"2023-09-16T10:45:00\",\"2023-09-16T10:50:00\",\"2023-09-16T10:55:00\",\"2023-09-16T11:00:00\",\"2023-09-16T11:05:00\",\"2023-09-16T11:10:00\",\"2023-09-16T11:15:00\",\"2023-09-16T11:20:00\",\"2023-09-16T11:25:00\",\"2023-09-16T11:30:00\",\"2023-09-16T11:35:00\",\"2023-09-16T11:40:00\",\"2023-09-16T11:45:00\",\"2023-09-16T11:50:00\",\"2023-09-16T11:55:00\",\"2023-09-16T12:00:00\",\"2023-09-16T12:05:00\",\"2023-09-16T12:10:00\",\"2023-09-16T12:15:00\",\"2023-09-16T12:20:00\",\"2023-09-16T12:25:00\",\"2023-09-16T12:30:00\",\"2023-09-16T12:35:00\",\"2023-09-16T12:40:00\",\"2023-09-16T12:45:00\",\"2023-09-16T12:50:00\",\"2023-09-16T12:55:00\",\"2023-09-16T13:00:00\",\"2023-09-16T13:05:00\",\"2023-09-16T13:10:00\",\"2023-09-16T13:15:00\",\"2023-09-16T13:20:00\",\"2023-09-16T13:25:00\",\"2023-09-16T13:30:00\",\"2023-09-16T13:35:00\",\"2023-09-16T13:40:00\",\"2023-09-16T13:45:00\",\"2023-09-16T13:50:00\",\"2023-09-16T13:55:00\",\"2023-09-16T14:00:00\",\"2023-09-16T14:05:00\",\"2023-09-16T14:10:00\",\"2023-09-16T14:15:00\",\"2023-09-16T14:20:00\",\"2023-09-16T14:25:00\",\"2023-09-16T14:30:00\",\"2023-09-16T14:35:00\",\"2023-09-16T14:40:00\",\"2023-09-16T14:45:00\",\"2023-09-16T17:00:00\",\"2023-09-16T17:05:00\",\"2023-09-17T17:05:00\"],\"y\":[26624.98821603578,26627.789204388635,26630.98011243607,26634.901167790766,26639.696342571042,26645.274655295063,26651.334625690266,26657.445309251267,26663.16213033161,26661.064162304847,26658.091819532958,26654.338321756462,26650.106854513917,26645.829076232374,26641.949093232237,26638.804088876732,26636.53369242454,26635.042448234708,26641.58414710584,26648.167753716592,26654.349642326517,26659.794164538882,26664.36386785918,26668.156441403164,26671.478458147154,26674.762971513566,26677.621839678926,26681.22044330493,26685.69405463814,26690.942753559484,26696.658285010697,26702.406914525913,26707.746011251875,26712.343022200017,26716.064858806305,26709.338428625455,26702.148902019977,26694.930683498627,26688.12588964214,26682.065513067846,26676.880455287774,26672.46634183694,26668.511576969282,26663.35239787332,26657.775912717927,26651.452697646087,26644.254041514712,26636.286542023678,26627.863453433507,26619.420487301588,26611.398698047222,26608.259350610588,26605.995544308993,26604.498460910476,26603.453195576236,26602.42339978722,26600.968566978885,26598.76243582209,26595.680685648105,26591.834352460155,26585.292324725957,26578.739235838184,26572.615033339902,26567.244384866328,26562.749411099925,26559.01686107536,26555.72855278954,26552.44689698698,26548.73251313801,26544.262338684144,26538.91645603128,26532.81032823251,26526.26376379854,26519.714955718522,26513.602700052154,26508.248452413496,26503.769924270448,26503.166575916668,26502.99984793341,26502.83095469696,26502.221692583786,26500.852224236085,26498.607047294714,26495.6060401538,26492.172239974956,26491.161173256125,26490.594280716152,26490.78977335127,26491.860941482126,26493.685703573803,26495.939420398507,26498.182154457863,26499.97692029555,26501.265149313072,26501.677758128637,26501.3390283234,26500.575192959444,26499.826748758467,26499.530055469055,26500.000047202342,26501.34558165001,26503.44018033415,26508.621275163678,26513.78257082444,26518.48834433692,26522.42531202282,26525.486836675995,26527.80159046366,26529.69896927359,26531.620554754463,26531.378937383895,26531.908227156517,26533.312838091777,26535.46190759278,26538.02447086496,26540.558420572397,26542.62934039205,26543.927271294797,26544.35002509351,26541.078457107324,26537.397287040898,26533.74913670125,26530.567752563467,26528.161419525964,26526.630097351415,26525.838552592926,26525.452707844615,26527.64971134283,26529.37622415713,26530.32564333467,26530.40024006925,26529.73742811938,26528.672828512048,26527.650058340874,26527.101491411795,26526.18507979416,26526.143280025775,26526.83650152041,26527.927588131395,26528.972441988324,26529.539392067818,26529.325222579955,26528.236674006897,26526.41551022726,26527.66530811969,26528.965740916163,26530.747765911437,26533.3128937658,26536.752145779657,26540.92158837821,26545.481020864056,26549.985417582786,26551.88350972625,26552.996535570775,26553.235714338778,26552.74714565359,26551.872539576012,26551.0573687327,26550.73113022229,26551.191901556696,26552.526220735068,26554.605885579047,26557.067625539432,26559.46553230012,26561.37085520644,26562.487244673266,26562.730407671497,26562.2507647547,26561.393018687955,26556.940795129405,26552.98479446574,26549.819630836344,26547.527350168104,26545.955377131882,26544.757525698882,26543.487050109405,26541.71672516684,26541.436470995603,26540.283699497355,26538.41313690934,26536.17244374689,26534.008767516338,26532.348554426757,26531.482925384815,26531.48942592123,26532.211182814142,26533.628064334393,26534.963538101583,26535.791947695983,26535.82392992695,26534.984192434902,26533.431751452103,26531.517189996553,26529.688425055225,26528.424961143017,26527.959747727968,26528.36582208492,26529.48202900161,26530.95633752142,26532.34046294316,26533.21036078737,26533.28020523674,26532.47921595066,26536.28234566712,26539.731401731497,26543.275025189298,26547.336438424987,26552.1996876727,26557.933294547358,26564.371838192033,26571.160418568135,26572.425744987537,26573.16973255777,26573.110121820122,26572.180651625866,26570.5488693947,26568.571096227297,26566.696651747126,26565.347081977157,26564.802852439036,26565.127962140046,26566.152741345915,26567.519456922248,26568.778467037173,26569.509079886157,26569.432630992247,26568.487385112934,26566.845129996687,26564.86500174159,26562.996952992846,26561.660810668487,26561.133431145106,26561.474284331798,26562.509468817232,26563.878454649497,26565.130989772373,26565.84812278933,26565.75481245086,26564.793855684857,26563.14126315319,26561.158949534154,26559.29745487425,26557.974844428452,26557.46433735107,26557.820868425784,26558.866322202335,26560.237408452653,26561.483310552107,26562.186859990532,26562.076666630306,26561.10006537037,26559.43727193779,26557.452942898533,26555.59816002579,26554.28918451652,26553.795570607148,26554.1677123856,26555.223298417113,26556.59631503592,26557.83542675578,26558.52529024465,26558.398193998237,26546.335229328783,26544.501521102553,26455.803051042712],\"type\":\"scatter\"},{\"fill\":\"tonexty\",\"fillcolor\":\"rgba(0, 114, 178, 0.2)\",\"hoverinfo\":\"skip\",\"line\":{\"width\":0},\"mode\":\"lines\",\"x\":[\"2023-09-15T17:00:00\",\"2023-09-15T17:05:00\",\"2023-09-15T17:10:00\",\"2023-09-15T17:15:00\",\"2023-09-15T17:20:00\",\"2023-09-15T17:25:00\",\"2023-09-15T17:30:00\",\"2023-09-15T17:35:00\",\"2023-09-15T17:40:00\",\"2023-09-15T17:45:00\",\"2023-09-15T17:50:00\",\"2023-09-15T17:55:00\",\"2023-09-15T18:00:00\",\"2023-09-15T18:05:00\",\"2023-09-15T18:10:00\",\"2023-09-15T18:15:00\",\"2023-09-15T18:20:00\",\"2023-09-15T18:25:00\",\"2023-09-15T18:30:00\",\"2023-09-15T18:35:00\",\"2023-09-15T18:40:00\",\"2023-09-15T18:45:00\",\"2023-09-15T18:50:00\",\"2023-09-15T18:55:00\",\"2023-09-15T19:00:00\",\"2023-09-15T19:05:00\",\"2023-09-15T19:10:00\",\"2023-09-15T19:15:00\",\"2023-09-15T19:20:00\",\"2023-09-15T19:25:00\",\"2023-09-15T19:30:00\",\"2023-09-15T19:35:00\",\"2023-09-15T19:40:00\",\"2023-09-15T19:45:00\",\"2023-09-15T19:50:00\",\"2023-09-15T19:55:00\",\"2023-09-15T20:00:00\",\"2023-09-15T20:05:00\",\"2023-09-15T20:10:00\",\"2023-09-15T20:15:00\",\"2023-09-15T20:20:00\",\"2023-09-15T20:25:00\",\"2023-09-15T20:30:00\",\"2023-09-15T20:35:00\",\"2023-09-15T20:40:00\",\"2023-09-15T20:45:00\",\"2023-09-15T20:50:00\",\"2023-09-15T20:55:00\",\"2023-09-15T21:00:00\",\"2023-09-15T21:05:00\",\"2023-09-15T21:10:00\",\"2023-09-15T21:15:00\",\"2023-09-15T21:20:00\",\"2023-09-15T21:25:00\",\"2023-09-15T21:30:00\",\"2023-09-15T21:35:00\",\"2023-09-15T21:40:00\",\"2023-09-15T21:45:00\",\"2023-09-15T21:50:00\",\"2023-09-15T21:55:00\",\"2023-09-15T22:00:00\",\"2023-09-15T22:05:00\",\"2023-09-15T22:10:00\",\"2023-09-15T22:15:00\",\"2023-09-15T22:20:00\",\"2023-09-15T22:25:00\",\"2023-09-15T22:30:00\",\"2023-09-15T22:35:00\",\"2023-09-15T22:40:00\",\"2023-09-15T22:45:00\",\"2023-09-15T22:50:00\",\"2023-09-15T22:55:00\",\"2023-09-15T23:00:00\",\"2023-09-15T23:05:00\",\"2023-09-15T23:10:00\",\"2023-09-15T23:15:00\",\"2023-09-15T23:20:00\",\"2023-09-15T23:25:00\",\"2023-09-15T23:30:00\",\"2023-09-15T23:35:00\",\"2023-09-15T23:40:00\",\"2023-09-15T23:45:00\",\"2023-09-15T23:50:00\",\"2023-09-15T23:55:00\",\"2023-09-16T00:00:00\",\"2023-09-16T00:05:00\",\"2023-09-16T00:10:00\",\"2023-09-16T00:15:00\",\"2023-09-16T00:20:00\",\"2023-09-16T00:25:00\",\"2023-09-16T00:30:00\",\"2023-09-16T00:35:00\",\"2023-09-16T00:40:00\",\"2023-09-16T00:45:00\",\"2023-09-16T00:50:00\",\"2023-09-16T00:55:00\",\"2023-09-16T01:00:00\",\"2023-09-16T01:05:00\",\"2023-09-16T01:10:00\",\"2023-09-16T01:15:00\",\"2023-09-16T01:20:00\",\"2023-09-16T01:25:00\",\"2023-09-16T01:30:00\",\"2023-09-16T01:35:00\",\"2023-09-16T01:40:00\",\"2023-09-16T01:45:00\",\"2023-09-16T01:50:00\",\"2023-09-16T01:55:00\",\"2023-09-16T02:00:00\",\"2023-09-16T02:05:00\",\"2023-09-16T02:10:00\",\"2023-09-16T02:15:00\",\"2023-09-16T02:20:00\",\"2023-09-16T02:25:00\",\"2023-09-16T02:30:00\",\"2023-09-16T02:35:00\",\"2023-09-16T02:40:00\",\"2023-09-16T02:45:00\",\"2023-09-16T02:50:00\",\"2023-09-16T02:55:00\",\"2023-09-16T03:00:00\",\"2023-09-16T03:05:00\",\"2023-09-16T03:10:00\",\"2023-09-16T03:15:00\",\"2023-09-16T03:20:00\",\"2023-09-16T03:25:00\",\"2023-09-16T03:30:00\",\"2023-09-16T03:35:00\",\"2023-09-16T03:40:00\",\"2023-09-16T03:45:00\",\"2023-09-16T03:50:00\",\"2023-09-16T03:55:00\",\"2023-09-16T04:00:00\",\"2023-09-16T04:05:00\",\"2023-09-16T04:10:00\",\"2023-09-16T04:15:00\",\"2023-09-16T04:20:00\",\"2023-09-16T04:25:00\",\"2023-09-16T04:30:00\",\"2023-09-16T04:35:00\",\"2023-09-16T04:40:00\",\"2023-09-16T04:45:00\",\"2023-09-16T04:50:00\",\"2023-09-16T04:55:00\",\"2023-09-16T05:00:00\",\"2023-09-16T05:05:00\",\"2023-09-16T05:10:00\",\"2023-09-16T05:15:00\",\"2023-09-16T05:20:00\",\"2023-09-16T05:25:00\",\"2023-09-16T05:30:00\",\"2023-09-16T05:35:00\",\"2023-09-16T05:40:00\",\"2023-09-16T05:45:00\",\"2023-09-16T05:50:00\",\"2023-09-16T05:55:00\",\"2023-09-16T06:00:00\",\"2023-09-16T06:05:00\",\"2023-09-16T06:10:00\",\"2023-09-16T06:15:00\",\"2023-09-16T06:20:00\",\"2023-09-16T06:25:00\",\"2023-09-16T06:30:00\",\"2023-09-16T06:35:00\",\"2023-09-16T06:40:00\",\"2023-09-16T06:45:00\",\"2023-09-16T06:50:00\",\"2023-09-16T06:55:00\",\"2023-09-16T07:00:00\",\"2023-09-16T07:05:00\",\"2023-09-16T07:10:00\",\"2023-09-16T07:15:00\",\"2023-09-16T07:20:00\",\"2023-09-16T07:25:00\",\"2023-09-16T07:30:00\",\"2023-09-16T07:35:00\",\"2023-09-16T07:40:00\",\"2023-09-16T07:45:00\",\"2023-09-16T07:50:00\",\"2023-09-16T07:55:00\",\"2023-09-16T08:00:00\",\"2023-09-16T08:05:00\",\"2023-09-16T08:10:00\",\"2023-09-16T08:15:00\",\"2023-09-16T08:20:00\",\"2023-09-16T08:25:00\",\"2023-09-16T08:30:00\",\"2023-09-16T08:35:00\",\"2023-09-16T08:40:00\",\"2023-09-16T08:45:00\",\"2023-09-16T08:50:00\",\"2023-09-16T08:55:00\",\"2023-09-16T09:00:00\",\"2023-09-16T09:05:00\",\"2023-09-16T09:10:00\",\"2023-09-16T09:15:00\",\"2023-09-16T09:20:00\",\"2023-09-16T09:25:00\",\"2023-09-16T09:30:00\",\"2023-09-16T09:35:00\",\"2023-09-16T09:40:00\",\"2023-09-16T09:45:00\",\"2023-09-16T09:50:00\",\"2023-09-16T09:55:00\",\"2023-09-16T10:00:00\",\"2023-09-16T10:05:00\",\"2023-09-16T10:10:00\",\"2023-09-16T10:15:00\",\"2023-09-16T10:20:00\",\"2023-09-16T10:25:00\",\"2023-09-16T10:30:00\",\"2023-09-16T10:35:00\",\"2023-09-16T10:40:00\",\"2023-09-16T10:45:00\",\"2023-09-16T10:50:00\",\"2023-09-16T10:55:00\",\"2023-09-16T11:00:00\",\"2023-09-16T11:05:00\",\"2023-09-16T11:10:00\",\"2023-09-16T11:15:00\",\"2023-09-16T11:20:00\",\"2023-09-16T11:25:00\",\"2023-09-16T11:30:00\",\"2023-09-16T11:35:00\",\"2023-09-16T11:40:00\",\"2023-09-16T11:45:00\",\"2023-09-16T11:50:00\",\"2023-09-16T11:55:00\",\"2023-09-16T12:00:00\",\"2023-09-16T12:05:00\",\"2023-09-16T12:10:00\",\"2023-09-16T12:15:00\",\"2023-09-16T12:20:00\",\"2023-09-16T12:25:00\",\"2023-09-16T12:30:00\",\"2023-09-16T12:35:00\",\"2023-09-16T12:40:00\",\"2023-09-16T12:45:00\",\"2023-09-16T12:50:00\",\"2023-09-16T12:55:00\",\"2023-09-16T13:00:00\",\"2023-09-16T13:05:00\",\"2023-09-16T13:10:00\",\"2023-09-16T13:15:00\",\"2023-09-16T13:20:00\",\"2023-09-16T13:25:00\",\"2023-09-16T13:30:00\",\"2023-09-16T13:35:00\",\"2023-09-16T13:40:00\",\"2023-09-16T13:45:00\",\"2023-09-16T13:50:00\",\"2023-09-16T13:55:00\",\"2023-09-16T14:00:00\",\"2023-09-16T14:05:00\",\"2023-09-16T14:10:00\",\"2023-09-16T14:15:00\",\"2023-09-16T14:20:00\",\"2023-09-16T14:25:00\",\"2023-09-16T14:30:00\",\"2023-09-16T14:35:00\",\"2023-09-16T14:40:00\",\"2023-09-16T14:45:00\",\"2023-09-16T17:00:00\",\"2023-09-16T17:05:00\",\"2023-09-17T17:05:00\"],\"y\":[26645.854442719738,26649.24125975804,26651.52967816781,26653.073876049413,26659.765345637104,26665.192257013106,26671.020678447356,26676.22080864381,26684.38848138163,26681.50842447731,26677.2974627431,26673.679386967004,26669.897685021297,26665.765626433084,26661.87492423889,26658.85145889571,26655.706167818553,26656.500399532815,26659.604999569252,26667.857944594518,26674.263270543703,26679.153152593684,26685.50809021777,26688.3086763364,26689.902885600182,26695.3280061249,26698.524228596892,26700.652816090922,26703.959483552942,26711.29301520587,26716.467212758078,26721.43153580169,26726.775361870372,26730.643790041904,26736.73542319415,26727.600290177295,26722.07525045276,26714.610321824213,26707.784013422042,26703.044115141092,26697.221566921828,26693.20253394548,26687.523237269907,26683.04083714166,26677.90747299446,26671.77307956054,26662.055018378036,26655.106895431512,26648.425237384694,26638.676229798137,26631.06279713561,26626.44326133492,26625.9390253695,26624.419247463273,26623.3280952378,26622.08551374094,26618.973697387053,26618.81769004701,26613.909324610962,26611.45707123228,26605.331677582366,26598.200130698893,26590.78219346077,26585.264480449536,26581.1044515342,26578.991160296762,26574.925133906156,26572.78855293667,26569.48974653221,26562.69045777307,26558.82119757978,26553.35568541355,26545.719480036474,26539.62791208174,26533.304182688116,26528.30809348482,26522.433383625943,26522.595268011664,26521.15061504799,26521.166510458017,26521.3718279608,26521.256055498583,26517.349451143135,26514.035542001162,26511.892727592036,26510.14664855224,26510.728638751538,26511.932030908505,26510.894837710457,26513.1734668357,26515.717428943804,26518.038249058085,26519.551552606823,26519.988020755118,26521.164642725496,26521.473538071754,26520.33669100884,26519.316257683742,26518.079487864874,26519.45380386449,26520.881784799025,26522.41102053451,26527.924139146326,26532.896981580816,26537.853353951807,26541.17152637528,26545.05470797526,26547.30740465417,26549.155707676142,26550.773595099596,26551.253466231854,26551.091380278376,26551.39447173649,26553.986391288385,26558.02418966118,26561.295897834872,26560.309386235243,26564.48758400558,26563.003591136505,26560.786860141205,26556.71191604569,26553.697084843694,26550.9189152126,26548.80173184918,26546.30464081078,26546.243815304068,26544.20772150736,26546.108162863246,26548.355103131664,26550.03215518702,26550.04896058195,26549.137200811325,26548.885056679956,26547.041263672694,26546.832802121164,26545.112800688374,26545.156229275646,26546.761524975373,26548.467903017303,26547.777305244577,26547.84088980546,26549.978768506127,26548.23923967852,26547.020415101782,26547.885234956753,26548.29389479956,26551.27091593048,26553.94685269712,26555.673209924367,26560.157838274634,26564.12625223537,26568.808313644353,26571.396603293968,26571.336330417696,26571.68861399134,26572.540972811927,26571.800804668954,26571.171692801247,26568.932290033754,26571.36946194643,26573.041678421483,26573.27838755133,26574.56872823562,26578.023724605486,26580.352973207468,26581.703277693647,26582.820997136452,26580.896329157185,26580.39617174063,26576.861449386706,26572.48759929082,26567.44539762847,26566.613488922874,26565.88854880606,26564.30612292476,26563.129875847502,26561.51739787247,26560.980216754357,26560.592629980427,26558.237819992366,26555.600293700216,26553.684621227614,26551.530753268366,26552.363481125805,26550.632409845468,26552.62853386533,26551.944767932382,26555.872692116285,26555.247733662603,26555.89677353466,26553.402946879152,26552.54423448355,26552.285418450396,26549.660770552684,26547.39008762145,26547.46207246039,26547.050448136633,26549.111004975915,26549.98775307475,26551.416207308823,26553.477547226576,26554.312994494572,26552.230139594143,26558.19731015074,26560.608463303724,26562.093449373395,26567.037186625144,26571.95113182338,26575.808900252963,26586.37990719749,26589.706396893223,26591.870753333187,26591.15059221285,26592.261447179335,26592.23819433478,26589.482751429463,26588.459143877946,26586.585498043827,26584.14960710298,26585.11386167752,26584.57910452327,26585.293592115024,26585.697926756366,26587.872342111907,26590.728855101464,26588.64023547786,26588.498007173832,26586.256822525957,26585.30339313271,26582.684868737677,26581.059981715054,26580.383523301614,26581.510624151524,26580.887965962866,26584.302272276895,26584.769450884818,26585.31594152102,26585.920307858367,26583.32114624699,26583.750798844376,26579.616424912,26577.805158499268,26577.16250278883,26578.224299978414,26577.354519299013,26578.506106944333,26579.459990782765,26581.802347950157,26582.157508083397,26581.33951122209,26580.452524210257,26578.236853579656,26576.870858374255,26575.760850771036,26573.829694780852,26573.082442294693,26573.873946041404,26577.145786188077,26577.384323070863,26576.522979318204,26578.19927434164,26578.305425252154,26565.766092790003,26563.83775890765,26475.879553755247],\"type\":\"scatter\"}],                        {\"height\":600,\"showlegend\":false,\"width\":900,\"xaxis\":{\"rangeselector\":{\"buttons\":[{\"count\":7,\"label\":\"1w\",\"step\":\"day\",\"stepmode\":\"backward\"},{\"count\":1,\"label\":\"1m\",\"step\":\"month\",\"stepmode\":\"backward\"},{\"count\":6,\"label\":\"6m\",\"step\":\"month\",\"stepmode\":\"backward\"},{\"count\":1,\"label\":\"1y\",\"step\":\"year\",\"stepmode\":\"backward\"},{\"step\":\"all\"}]},\"rangeslider\":{\"visible\":true},\"title\":{\"text\":\"ds\"},\"type\":\"date\"},\"yaxis\":{\"title\":{\"text\":\"y\"}},\"template\":{\"data\":{\"histogram2dcontour\":[{\"type\":\"histogram2dcontour\",\"colorbar\":{\"outlinewidth\":0,\"ticks\":\"\"},\"colorscale\":[[0.0,\"#0d0887\"],[0.1111111111111111,\"#46039f\"],[0.2222222222222222,\"#7201a8\"],[0.3333333333333333,\"#9c179e\"],[0.4444444444444444,\"#bd3786\"],[0.5555555555555556,\"#d8576b\"],[0.6666666666666666,\"#ed7953\"],[0.7777777777777778,\"#fb9f3a\"],[0.8888888888888888,\"#fdca26\"],[1.0,\"#f0f921\"]]}],\"choropleth\":[{\"type\":\"choropleth\",\"colorbar\":{\"outlinewidth\":0,\"ticks\":\"\"}}],\"histogram2d\":[{\"type\":\"histogram2d\",\"colorbar\":{\"outlinewidth\":0,\"ticks\":\"\"},\"colorscale\":[[0.0,\"#0d0887\"],[0.1111111111111111,\"#46039f\"],[0.2222222222222222,\"#7201a8\"],[0.3333333333333333,\"#9c179e\"],[0.4444444444444444,\"#bd3786\"],[0.5555555555555556,\"#d8576b\"],[0.6666666666666666,\"#ed7953\"],[0.7777777777777778,\"#fb9f3a\"],[0.8888888888888888,\"#fdca26\"],[1.0,\"#f0f921\"]]}],\"heatmap\":[{\"type\":\"heatmap\",\"colorbar\":{\"outlinewidth\":0,\"ticks\":\"\"},\"colorscale\":[[0.0,\"#0d0887\"],[0.1111111111111111,\"#46039f\"],[0.2222222222222222,\"#7201a8\"],[0.3333333333333333,\"#9c179e\"],[0.4444444444444444,\"#bd3786\"],[0.5555555555555556,\"#d8576b\"],[0.6666666666666666,\"#ed7953\"],[0.7777777777777778,\"#fb9f3a\"],[0.8888888888888888,\"#fdca26\"],[1.0,\"#f0f921\"]]}],\"heatmapgl\":[{\"type\":\"heatmapgl\",\"colorbar\":{\"outlinewidth\":0,\"ticks\":\"\"},\"colorscale\":[[0.0,\"#0d0887\"],[0.1111111111111111,\"#46039f\"],[0.2222222222222222,\"#7201a8\"],[0.3333333333333333,\"#9c179e\"],[0.4444444444444444,\"#bd3786\"],[0.5555555555555556,\"#d8576b\"],[0.6666666666666666,\"#ed7953\"],[0.7777777777777778,\"#fb9f3a\"],[0.8888888888888888,\"#fdca26\"],[1.0,\"#f0f921\"]]}],\"contourcarpet\":[{\"type\":\"contourcarpet\",\"colorbar\":{\"outlinewidth\":0,\"ticks\":\"\"}}],\"contour\":[{\"type\":\"contour\",\"colorbar\":{\"outlinewidth\":0,\"ticks\":\"\"},\"colorscale\":[[0.0,\"#0d0887\"],[0.1111111111111111,\"#46039f\"],[0.2222222222222222,\"#7201a8\"],[0.3333333333333333,\"#9c179e\"],[0.4444444444444444,\"#bd3786\"],[0.5555555555555556,\"#d8576b\"],[0.6666666666666666,\"#ed7953\"],[0.7777777777777778,\"#fb9f3a\"],[0.8888888888888888,\"#fdca26\"],[1.0,\"#f0f921\"]]}],\"surface\":[{\"type\":\"surface\",\"colorbar\":{\"outlinewidth\":0,\"ticks\":\"\"},\"colorscale\":[[0.0,\"#0d0887\"],[0.1111111111111111,\"#46039f\"],[0.2222222222222222,\"#7201a8\"],[0.3333333333333333,\"#9c179e\"],[0.4444444444444444,\"#bd3786\"],[0.5555555555555556,\"#d8576b\"],[0.6666666666666666,\"#ed7953\"],[0.7777777777777778,\"#fb9f3a\"],[0.8888888888888888,\"#fdca26\"],[1.0,\"#f0f921\"]]}],\"mesh3d\":[{\"type\":\"mesh3d\",\"colorbar\":{\"outlinewidth\":0,\"ticks\":\"\"}}],\"scatter\":[{\"fillpattern\":{\"fillmode\":\"overlay\",\"size\":10,\"solidity\":0.2},\"type\":\"scatter\"}],\"parcoords\":[{\"type\":\"parcoords\",\"line\":{\"colorbar\":{\"outlinewidth\":0,\"ticks\":\"\"}}}],\"scatterpolargl\":[{\"type\":\"scatterpolargl\",\"marker\":{\"colorbar\":{\"outlinewidth\":0,\"ticks\":\"\"}}}],\"bar\":[{\"error_x\":{\"color\":\"#2a3f5f\"},\"error_y\":{\"color\":\"#2a3f5f\"},\"marker\":{\"line\":{\"color\":\"#E5ECF6\",\"width\":0.5},\"pattern\":{\"fillmode\":\"overlay\",\"size\":10,\"solidity\":0.2}},\"type\":\"bar\"}],\"scattergeo\":[{\"type\":\"scattergeo\",\"marker\":{\"colorbar\":{\"outlinewidth\":0,\"ticks\":\"\"}}}],\"scatterpolar\":[{\"type\":\"scatterpolar\",\"marker\":{\"colorbar\":{\"outlinewidth\":0,\"ticks\":\"\"}}}],\"histogram\":[{\"marker\":{\"pattern\":{\"fillmode\":\"overlay\",\"size\":10,\"solidity\":0.2}},\"type\":\"histogram\"}],\"scattergl\":[{\"type\":\"scattergl\",\"marker\":{\"colorbar\":{\"outlinewidth\":0,\"ticks\":\"\"}}}],\"scatter3d\":[{\"type\":\"scatter3d\",\"line\":{\"colorbar\":{\"outlinewidth\":0,\"ticks\":\"\"}},\"marker\":{\"colorbar\":{\"outlinewidth\":0,\"ticks\":\"\"}}}],\"scattermapbox\":[{\"type\":\"scattermapbox\",\"marker\":{\"colorbar\":{\"outlinewidth\":0,\"ticks\":\"\"}}}],\"scatterternary\":[{\"type\":\"scatterternary\",\"marker\":{\"colorbar\":{\"outlinewidth\":0,\"ticks\":\"\"}}}],\"scattercarpet\":[{\"type\":\"scattercarpet\",\"marker\":{\"colorbar\":{\"outlinewidth\":0,\"ticks\":\"\"}}}],\"carpet\":[{\"aaxis\":{\"endlinecolor\":\"#2a3f5f\",\"gridcolor\":\"white\",\"linecolor\":\"white\",\"minorgridcolor\":\"white\",\"startlinecolor\":\"#2a3f5f\"},\"baxis\":{\"endlinecolor\":\"#2a3f5f\",\"gridcolor\":\"white\",\"linecolor\":\"white\",\"minorgridcolor\":\"white\",\"startlinecolor\":\"#2a3f5f\"},\"type\":\"carpet\"}],\"table\":[{\"cells\":{\"fill\":{\"color\":\"#EBF0F8\"},\"line\":{\"color\":\"white\"}},\"header\":{\"fill\":{\"color\":\"#C8D4E3\"},\"line\":{\"color\":\"white\"}},\"type\":\"table\"}],\"barpolar\":[{\"marker\":{\"line\":{\"color\":\"#E5ECF6\",\"width\":0.5},\"pattern\":{\"fillmode\":\"overlay\",\"size\":10,\"solidity\":0.2}},\"type\":\"barpolar\"}],\"pie\":[{\"automargin\":true,\"type\":\"pie\"}]},\"layout\":{\"autotypenumbers\":\"strict\",\"colorway\":[\"#636efa\",\"#EF553B\",\"#00cc96\",\"#ab63fa\",\"#FFA15A\",\"#19d3f3\",\"#FF6692\",\"#B6E880\",\"#FF97FF\",\"#FECB52\"],\"font\":{\"color\":\"#2a3f5f\"},\"hovermode\":\"closest\",\"hoverlabel\":{\"align\":\"left\"},\"paper_bgcolor\":\"white\",\"plot_bgcolor\":\"#E5ECF6\",\"polar\":{\"bgcolor\":\"#E5ECF6\",\"angularaxis\":{\"gridcolor\":\"white\",\"linecolor\":\"white\",\"ticks\":\"\"},\"radialaxis\":{\"gridcolor\":\"white\",\"linecolor\":\"white\",\"ticks\":\"\"}},\"ternary\":{\"bgcolor\":\"#E5ECF6\",\"aaxis\":{\"gridcolor\":\"white\",\"linecolor\":\"white\",\"ticks\":\"\"},\"baxis\":{\"gridcolor\":\"white\",\"linecolor\":\"white\",\"ticks\":\"\"},\"caxis\":{\"gridcolor\":\"white\",\"linecolor\":\"white\",\"ticks\":\"\"}},\"coloraxis\":{\"colorbar\":{\"outlinewidth\":0,\"ticks\":\"\"}},\"colorscale\":{\"sequential\":[[0.0,\"#0d0887\"],[0.1111111111111111,\"#46039f\"],[0.2222222222222222,\"#7201a8\"],[0.3333333333333333,\"#9c179e\"],[0.4444444444444444,\"#bd3786\"],[0.5555555555555556,\"#d8576b\"],[0.6666666666666666,\"#ed7953\"],[0.7777777777777778,\"#fb9f3a\"],[0.8888888888888888,\"#fdca26\"],[1.0,\"#f0f921\"]],\"sequentialminus\":[[0.0,\"#0d0887\"],[0.1111111111111111,\"#46039f\"],[0.2222222222222222,\"#7201a8\"],[0.3333333333333333,\"#9c179e\"],[0.4444444444444444,\"#bd3786\"],[0.5555555555555556,\"#d8576b\"],[0.6666666666666666,\"#ed7953\"],[0.7777777777777778,\"#fb9f3a\"],[0.8888888888888888,\"#fdca26\"],[1.0,\"#f0f921\"]],\"diverging\":[[0,\"#8e0152\"],[0.1,\"#c51b7d\"],[0.2,\"#de77ae\"],[0.3,\"#f1b6da\"],[0.4,\"#fde0ef\"],[0.5,\"#f7f7f7\"],[0.6,\"#e6f5d0\"],[0.7,\"#b8e186\"],[0.8,\"#7fbc41\"],[0.9,\"#4d9221\"],[1,\"#276419\"]]},\"xaxis\":{\"gridcolor\":\"white\",\"linecolor\":\"white\",\"ticks\":\"\",\"title\":{\"standoff\":15},\"zerolinecolor\":\"white\",\"automargin\":true,\"zerolinewidth\":2},\"yaxis\":{\"gridcolor\":\"white\",\"linecolor\":\"white\",\"ticks\":\"\",\"title\":{\"standoff\":15},\"zerolinecolor\":\"white\",\"automargin\":true,\"zerolinewidth\":2},\"scene\":{\"xaxis\":{\"backgroundcolor\":\"#E5ECF6\",\"gridcolor\":\"white\",\"linecolor\":\"white\",\"showbackground\":true,\"ticks\":\"\",\"zerolinecolor\":\"white\",\"gridwidth\":2},\"yaxis\":{\"backgroundcolor\":\"#E5ECF6\",\"gridcolor\":\"white\",\"linecolor\":\"white\",\"showbackground\":true,\"ticks\":\"\",\"zerolinecolor\":\"white\",\"gridwidth\":2},\"zaxis\":{\"backgroundcolor\":\"#E5ECF6\",\"gridcolor\":\"white\",\"linecolor\":\"white\",\"showbackground\":true,\"ticks\":\"\",\"zerolinecolor\":\"white\",\"gridwidth\":2}},\"shapedefaults\":{\"line\":{\"color\":\"#2a3f5f\"}},\"annotationdefaults\":{\"arrowcolor\":\"#2a3f5f\",\"arrowhead\":0,\"arrowwidth\":1},\"geo\":{\"bgcolor\":\"white\",\"landcolor\":\"#E5ECF6\",\"subunitcolor\":\"white\",\"showland\":true,\"showlakes\":true,\"lakecolor\":\"white\"},\"title\":{\"x\":0.05},\"mapbox\":{\"style\":\"light\"}}}},                        {\"responsive\": true}                    ).then(function(){\n",
              "                            \n",
              "var gd = document.getElementById('48d93ce7-8918-4c4c-aab9-fda080f174b5');\n",
              "var x = new MutationObserver(function (mutations, observer) {{\n",
              "        var display = window.getComputedStyle(gd).display;\n",
              "        if (!display || display === 'none') {{\n",
              "            console.log([gd, 'removed!']);\n",
              "            Plotly.purge(gd);\n",
              "            observer.disconnect();\n",
              "        }}\n",
              "}});\n",
              "\n",
              "// Listen for the removal of the full notebook cells\n",
              "var notebookContainer = gd.closest('#notebook-container');\n",
              "if (notebookContainer) {{\n",
              "    x.observe(notebookContainer, {childList: true});\n",
              "}}\n",
              "\n",
              "// Listen for the clearing of the current output cell\n",
              "var outputEl = gd.closest('.output');\n",
              "if (outputEl) {{\n",
              "    x.observe(outputEl, {childList: true});\n",
              "}}\n",
              "\n",
              "                        })                };                            </script>        </div>\n",
              "</body>\n",
              "</html>"
            ]
          },
          "metadata": {}
        }
      ]
    }
  ]
}